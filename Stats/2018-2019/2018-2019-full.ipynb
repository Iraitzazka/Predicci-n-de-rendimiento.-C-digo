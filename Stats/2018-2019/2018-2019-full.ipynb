{
 "cells": [
  {
   "cell_type": "code",
   "execution_count": 2,
   "id": "0f888981",
   "metadata": {},
   "outputs": [],
   "source": [
    "import pandas as pd"
   ]
  },
  {
   "cell_type": "code",
   "execution_count": 3,
   "id": "8348e901",
   "metadata": {},
   "outputs": [],
   "source": [
    "df1 = pd.read_csv(\"2018-2019assists.csv\")\n",
    "df2 = pd.read_csv(\"2018-2019defensive.csv\")\n",
    "df3 = pd.read_csv(\"2018-2019passes.csv\")\n",
    "df4 = pd.read_csv(\"2018-2019possession.csv\")\n",
    "df5 = pd.read_csv(\"2018-2019shoots.csv\")\n",
    "df6 = pd.read_csv(\"2018-2019porteros.csv\")"
   ]
  },
  {
   "cell_type": "markdown",
   "id": "ee9fdc6a",
   "metadata": {},
   "source": [
    "### Asistencias"
   ]
  },
  {
   "cell_type": "code",
   "execution_count": 4,
   "id": "6fbe6267",
   "metadata": {},
   "outputs": [],
   "source": [
    "df1_1 = df1.drop([\"Unnamed: 2\",\"Unnamed: 3\",\"Unnamed: 4\",\"Unnamed: 5\",\"Unnamed: 6\",\"Unnamed: 24\",\"-additional\"], axis = 1)\n",
    "df1_1.columns = list(df1_1.iloc[0])\n",
    "df1_2 = df1_1.drop([0], axis = 0)"
   ]
  },
  {
   "cell_type": "markdown",
   "id": "51ffbc40",
   "metadata": {},
   "source": [
    "### Defensa"
   ]
  },
  {
   "cell_type": "code",
   "execution_count": 8,
   "id": "00477883",
   "metadata": {},
   "outputs": [],
   "source": [
    "df2_1 = df2.drop([\"Unnamed: 1\",\"Unnamed: 2\",\"Unnamed: 3\",\"Unnamed: 4\",\"Unnamed: 5\",\"Unnamed: 6\",\"Unnamed: 31\",\"-additional\"], axis = 1)\n",
    "df2_1.columns = list(df2_1.iloc[0])\n",
    "df2_2 = df2_1.drop([0], axis = 0)"
   ]
  },
  {
   "cell_type": "markdown",
   "id": "e5d4182d",
   "metadata": {},
   "source": [
    "### Pases"
   ]
  },
  {
   "cell_type": "code",
   "execution_count": 10,
   "id": "f40e0242",
   "metadata": {},
   "outputs": [],
   "source": [
    "df3_1 = df3.drop([\"Unnamed: 1\",\"Unnamed: 2\",\"Unnamed: 3\",\"Unnamed: 4\",\"Unnamed: 5\",\"Unnamed: 6\",\"Unnamed: 30\",\"-additional\"], axis = 1)\n",
    "df3_1.columns = list(df3_1.iloc[0])\n",
    "df3_2 = df3_1.drop([0], axis = 0)"
   ]
  },
  {
   "cell_type": "markdown",
   "id": "f679b4fd",
   "metadata": {},
   "source": [
    "### Posesion"
   ]
  },
  {
   "cell_type": "code",
   "execution_count": 12,
   "id": "439ec914",
   "metadata": {},
   "outputs": [],
   "source": [
    "df4_1 = df4.drop([\"Unnamed: 1\",\"Unnamed: 2\",\"Unnamed: 3\",\"Unnamed: 4\",\"Unnamed: 5\",\"Unnamed: 6\",\"Unnamed: 32\",\"-additional\"], axis = 1)\n",
    "df4_1.columns = list(df4_1.iloc[0])\n",
    "df4_2 = df4_1.drop([0], axis = 0)"
   ]
  },
  {
   "cell_type": "markdown",
   "id": "ba1524d6",
   "metadata": {},
   "source": [
    "### Tiros"
   ]
  },
  {
   "cell_type": "code",
   "execution_count": 16,
   "id": "e1f735c2",
   "metadata": {},
   "outputs": [],
   "source": [
    "df5_1 = df5.drop([\"Unnamed: 1\",\"Unnamed: 2\",\"Unnamed: 3\",\"Unnamed: 4\",\"Unnamed: 5\",\"Unnamed: 6\",\"Unnamed: 25\",\"-additional\"], axis = 1)\n",
    "df5_1.columns = list(df5_1.iloc[0])\n",
    "df5_2 = df5_1.drop([0], axis = 0)"
   ]
  },
  {
   "cell_type": "markdown",
   "id": "76c951f8",
   "metadata": {},
   "source": [
    "### Portero"
   ]
  },
  {
   "cell_type": "code",
   "execution_count": 18,
   "id": "016178dd",
   "metadata": {},
   "outputs": [],
   "source": [
    "df6_1 = df6.drop([\"Unnamed: 1\",\"Unnamed: 2\",\"Unnamed: 3\",\"Unnamed: 4\",\"Unnamed: 5\",\"Unnamed: 6\",\"Unnamed: 26\",\"-additional\"], axis = 1)\n",
    "df6_1.columns = list(df6_1.iloc[0])\n",
    "df6_2 = df6_1.drop([0], axis = 0)"
   ]
  },
  {
   "cell_type": "code",
   "execution_count": 21,
   "id": "739bb716",
   "metadata": {},
   "outputs": [],
   "source": [
    "df = pd.concat([df1_2,df2_2,df3_2,df4_2,df5_2], axis = 1)"
   ]
  },
  {
   "cell_type": "code",
   "execution_count": 22,
   "id": "b2a1bb74",
   "metadata": {},
   "outputs": [],
   "source": [
    "#df_names = df[['NAME']]\n",
    "##df[df['NAME']==\"Vinicius Júnior\"]"
   ]
  },
  {
   "cell_type": "code",
   "execution_count": 23,
   "id": "96216a41",
   "metadata": {},
   "outputs": [],
   "source": [
    "#df_names.to_excel('nombres_stats_2018_2019.xlsx')"
   ]
  },
  {
   "cell_type": "code",
   "execution_count": 24,
   "id": "586cf7f2",
   "metadata": {},
   "outputs": [],
   "source": [
    "def normalize(s):\n",
    "    replacements = (\n",
    "        (\"á\", \"a\"),\n",
    "        (\"é\", \"e\"),\n",
    "        (\"í\", \"i\"),\n",
    "        (\"ó\", \"o\"),\n",
    "        (\"ú\", \"u\"),\n",
    "    )\n",
    "    for a, b in replacements:\n",
    "        s = s.replace(a, b).replace(a.upper(), b.upper())\n",
    "    return s"
   ]
  },
  {
   "cell_type": "code",
   "execution_count": 25,
   "id": "0027c987",
   "metadata": {},
   "outputs": [],
   "source": [
    "##Le quito las tildes\n",
    "#LISTA = df[\"NAME\"].to_list()\n",
    "#for i in range(len(LISTA)):\n",
    "#    LISTA[i] = normalize(LISTA[i])\n",
    "#df[\"NAME\"] = LISTA"
   ]
  },
  {
   "cell_type": "code",
   "execution_count": 24,
   "id": "2c6f3104",
   "metadata": {},
   "outputs": [],
   "source": [
    "valoraciones_2020 = pd.read_csv(\"Valoraciones_2020.csv\")\n",
    "valoraciones_2020 = valoraciones_2020.drop(['Unnamed: 0'],axis = 1)\n",
    "valoraciones_2020.columns = [\"Player\", \"VAL\"] #Para que la columna de nombres se llame igual\n",
    "df = df.merge(valoraciones_2020, how = \"inner\",on = \"Player\")\n",
    "df.to_csv(\"2018-2019_datos_full.csv\")"
   ]
  },
  {
   "cell_type": "code",
   "execution_count": null,
   "id": "cb31b8ec",
   "metadata": {},
   "outputs": [],
   "source": []
  }
 ],
 "metadata": {
  "kernelspec": {
   "display_name": "Python 3 (ipykernel)",
   "language": "python",
   "name": "python3"
  },
  "language_info": {
   "codemirror_mode": {
    "name": "ipython",
    "version": 3
   },
   "file_extension": ".py",
   "mimetype": "text/x-python",
   "name": "python",
   "nbconvert_exporter": "python",
   "pygments_lexer": "ipython3",
   "version": "3.9.12"
  }
 },
 "nbformat": 4,
 "nbformat_minor": 5
}
