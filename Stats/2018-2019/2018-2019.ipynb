{
 "cells": [
  {
   "cell_type": "code",
   "execution_count": 1,
   "id": "0f888981",
   "metadata": {},
   "outputs": [],
   "source": [
    "import pandas as pd"
   ]
  },
  {
   "cell_type": "code",
   "execution_count": 2,
   "id": "8348e901",
   "metadata": {},
   "outputs": [],
   "source": [
    "df1 = pd.read_csv(\"2018-2019assists.csv\")\n",
    "df2 = pd.read_csv(\"2018-2019defensive.csv\")\n",
    "df3 = pd.read_csv(\"2018-2019passes.csv\")\n",
    "df4 = pd.read_csv(\"2018-2019possession.csv\")\n",
    "df5 = pd.read_csv(\"2018-2019shoots.csv\")\n",
    "df6 = pd.read_csv(\"2018-2019porteros.csv\")"
   ]
  },
  {
   "cell_type": "markdown",
   "id": "ee9fdc6a",
   "metadata": {},
   "source": [
    "### Asistencias"
   ]
  },
  {
   "cell_type": "code",
   "execution_count": 3,
   "id": "6fbe6267",
   "metadata": {},
   "outputs": [],
   "source": [
    "df1_1 = df1.drop([\"Unnamed: 6\",\"Unnamed: 24\",\"-additional\", 'SCA Types', 'SCA Types.1','SCA Types.2','SCA Types.3','SCA Types.4','SCA Types.5','GCA Types', 'GCA Types.1','GCA Types.2','GCA Types.3','GCA Types.4','GCA Types.5' ], axis = 1)"
   ]
  },
  {
   "cell_type": "code",
   "execution_count": 4,
   "id": "7728b177",
   "metadata": {},
   "outputs": [],
   "source": [
    "df1_1.columns = ['ID', 'NAME', 'NATION', 'POSITION', 'TEAM', 'AGE', '90S', 'SCA','SCA90','GCA','GCA90']"
   ]
  },
  {
   "cell_type": "code",
   "execution_count": 5,
   "id": "d918c7e6",
   "metadata": {},
   "outputs": [],
   "source": [
    "df1_2 = df1_1.drop([0], axis = 0)"
   ]
  },
  {
   "cell_type": "markdown",
   "id": "51ffbc40",
   "metadata": {},
   "source": [
    "### Defensa"
   ]
  },
  {
   "cell_type": "code",
   "execution_count": 6,
   "id": "00477883",
   "metadata": {},
   "outputs": [],
   "source": [
    "df2_1 = df2.drop(['Unnamed: 6','Tackles.2', 'Tackles.3','Tackles.4','Vs Dribbles.1','Vs Dribbles.3','Pressures.1','Pressures.3','Pressures.4','Pressures.5','Blocks.1','Blocks.2','Blocks.3', 'Unnamed: 28', 'Unnamed: 29', 'Unnamed: 30', 'Unnamed: 31', '-additional'], axis = 1)"
   ]
  },
  {
   "cell_type": "code",
   "execution_count": 7,
   "id": "b9b3cc72",
   "metadata": {},
   "outputs": [],
   "source": [
    "df2_1.columns = ['ID', 'NAME', 'NATION', 'POSITION', 'TEAM', 'AGE', '90S', 'TACKLES','TACKLESWIN','VSDRIBLETACKLE','%VSDRIBLETACKLE', 'PRESSURE', '%PRESSUREWIN', 'BLOCKS', 'INTERCEPTIONS']"
   ]
  },
  {
   "cell_type": "code",
   "execution_count": 8,
   "id": "8fcab01c",
   "metadata": {},
   "outputs": [],
   "source": [
    "df2_2 = df2_1.drop([0], axis = 0)"
   ]
  },
  {
   "cell_type": "markdown",
   "id": "e5d4182d",
   "metadata": {},
   "source": [
    "### Pases"
   ]
  },
  {
   "cell_type": "code",
   "execution_count": 9,
   "id": "f40e0242",
   "metadata": {},
   "outputs": [],
   "source": [
    "df3_1 = df3.drop(['Unnamed: 6','Total.1', 'Total.3','Total.4','Short','Short.1','Short.2','Medium','Medium.1','Medium.2','Long','Long.1','Long.2','Unnamed: 23','Unnamed: 24','Unnamed: 26','Unnamed: 27', 'Unnamed: 28', 'Unnamed: 29', 'Unnamed: 30', '-additional'], axis = 1)"
   ]
  },
  {
   "cell_type": "code",
   "execution_count": 10,
   "id": "b58107be",
   "metadata": {},
   "outputs": [],
   "source": [
    "df3_1.columns = ['ID', 'NAME', 'NATION', 'POSITION', 'TEAM', 'AGE', '90S', 'TOTALPASSES','%TOTALPASSES','ASSIST','SHOTPASSES']"
   ]
  },
  {
   "cell_type": "code",
   "execution_count": 11,
   "id": "c2078bd6",
   "metadata": {},
   "outputs": [],
   "source": [
    "df3_2 = df3_1.drop([0], axis = 0)"
   ]
  },
  {
   "cell_type": "markdown",
   "id": "f679b4fd",
   "metadata": {},
   "source": [
    "### Posesion"
   ]
  },
  {
   "cell_type": "code",
   "execution_count": 12,
   "id": "439ec914",
   "metadata": {},
   "outputs": [],
   "source": [
    "df4_1 = df4.drop(['Unnamed: 6','Touches.1', 'Touches.2','Touches.3','Touches.4','Touches.5','Touches.6','Dribbles.1','Dribbles.3','Dribbles.4','Carries','Carries.2','Carries.3','Carries.4','Carries.5','Carries.6','Carries.7','Receiving.1','Receiving','Receiving.2','Receiving.3', 'Unnamed: 32', '-additional'], axis = 1)"
   ]
  },
  {
   "cell_type": "code",
   "execution_count": 13,
   "id": "2a0fbf34",
   "metadata": {},
   "outputs": [],
   "source": [
    "df4_1.columns = ['ID', 'NAME', 'NATION', 'POSITION', 'TEAM', 'AGE', '90S', 'TOTALTOUCHES','TOTALDRIBBLES','%TOTALDRIBBLES','DISTANCE']"
   ]
  },
  {
   "cell_type": "code",
   "execution_count": 14,
   "id": "b4d44902",
   "metadata": {},
   "outputs": [],
   "source": [
    "df4_2 = df4_1.drop([0], axis = 0)"
   ]
  },
  {
   "cell_type": "markdown",
   "id": "ba1524d6",
   "metadata": {},
   "source": [
    "### Tiros"
   ]
  },
  {
   "cell_type": "code",
   "execution_count": 15,
   "id": "e1f735c2",
   "metadata": {},
   "outputs": [],
   "source": [
    "df5_1 = df5.drop(['Unnamed: 6','Standard.2', 'Standard.3','Standard.4','Standard.5','Standard.6','Standard.7','Performance','Performance.1','Expected','Expected.1','Expected.2','Expected.3','Expected.4', 'Unnamed: 25', '-additional'], axis = 1)"
   ]
  },
  {
   "cell_type": "code",
   "execution_count": 16,
   "id": "a760ca4d",
   "metadata": {},
   "outputs": [],
   "source": [
    "df5_1.columns = ['ID', 'NAME', 'NATION', 'POSITION', 'TEAM', 'AGE', '90S', 'GOALS','SHOTS','SHOTSONTARGET','FREEKICKS']"
   ]
  },
  {
   "cell_type": "code",
   "execution_count": 17,
   "id": "c9b80c9e",
   "metadata": {},
   "outputs": [],
   "source": [
    "df5_2 = df5_1.drop([0], axis = 0)"
   ]
  },
  {
   "cell_type": "markdown",
   "id": "76c951f8",
   "metadata": {},
   "source": [
    "### Portero"
   ]
  },
  {
   "cell_type": "code",
   "execution_count": 18,
   "id": "016178dd",
   "metadata": {},
   "outputs": [],
   "source": [
    "df6_1 = df6.drop(['Unnamed: 6','Playing Time', 'Playing Time.1','Playing Time.2','Performance.1','Performance.4','Unnamed: 16','Unnamed: 17','Unnamed: 18','Performance.5','Performance.6','Performance.7','Penalty Kicks.2','Penalty Kicks.3', 'Unnamed: 26', '-additional'], axis = 1)"
   ]
  },
  {
   "cell_type": "code",
   "execution_count": 19,
   "id": "fc8d8937",
   "metadata": {},
   "outputs": [],
   "source": [
    "df6_1.columns = ['ID', 'NAME', 'NATION', 'POSITION', 'TEAM', 'AGE', '90S', 'GOALSAGAINST','SHOTSONTARGETAGAINST','SAVES', 'PENALTYALLOWED', 'PENALTYSAVED']"
   ]
  },
  {
   "cell_type": "code",
   "execution_count": 20,
   "id": "ebfbb919",
   "metadata": {},
   "outputs": [],
   "source": [
    "df6_2 = df6_1.drop([0], axis = 0)"
   ]
  },
  {
   "cell_type": "code",
   "execution_count": 21,
   "id": "739bb716",
   "metadata": {},
   "outputs": [],
   "source": [
    "df = pd.concat([df1_2,df2_2[df2_2.columns[-8:]],df3_2[df3_2.columns[-4:]],df4_2[df4_2.columns[-4:]],df5_2[df5_2.columns[-4:]]], axis = 1)\n"
   ]
  },
  {
   "cell_type": "code",
   "execution_count": 22,
   "id": "b2a1bb74",
   "metadata": {},
   "outputs": [
    {
     "data": {
      "text/html": [
       "<div>\n",
       "<style scoped>\n",
       "    .dataframe tbody tr th:only-of-type {\n",
       "        vertical-align: middle;\n",
       "    }\n",
       "\n",
       "    .dataframe tbody tr th {\n",
       "        vertical-align: top;\n",
       "    }\n",
       "\n",
       "    .dataframe thead th {\n",
       "        text-align: right;\n",
       "    }\n",
       "</style>\n",
       "<table border=\"1\" class=\"dataframe\">\n",
       "  <thead>\n",
       "    <tr style=\"text-align: right;\">\n",
       "      <th></th>\n",
       "      <th>ID</th>\n",
       "      <th>NAME</th>\n",
       "      <th>NATION</th>\n",
       "      <th>POSITION</th>\n",
       "      <th>TEAM</th>\n",
       "      <th>AGE</th>\n",
       "      <th>90S</th>\n",
       "      <th>SCA</th>\n",
       "      <th>SCA90</th>\n",
       "      <th>GCA</th>\n",
       "      <th>...</th>\n",
       "      <th>ASSIST</th>\n",
       "      <th>SHOTPASSES</th>\n",
       "      <th>TOTALTOUCHES</th>\n",
       "      <th>TOTALDRIBBLES</th>\n",
       "      <th>%TOTALDRIBBLES</th>\n",
       "      <th>DISTANCE</th>\n",
       "      <th>GOALS</th>\n",
       "      <th>SHOTS</th>\n",
       "      <th>SHOTSONTARGET</th>\n",
       "      <th>FREEKICKS</th>\n",
       "    </tr>\n",
       "  </thead>\n",
       "  <tbody>\n",
       "    <tr>\n",
       "      <th>257</th>\n",
       "      <td>257</td>\n",
       "      <td>Vinicius Júnior</td>\n",
       "      <td>br BRA</td>\n",
       "      <td>FW</td>\n",
       "      <td>Real Madrid</td>\n",
       "      <td>18</td>\n",
       "      <td>9.7</td>\n",
       "      <td>44</td>\n",
       "      <td>4.56</td>\n",
       "      <td>5</td>\n",
       "      <td>...</td>\n",
       "      <td>0</td>\n",
       "      <td>14</td>\n",
       "      <td>496</td>\n",
       "      <td>40</td>\n",
       "      <td>65.6</td>\n",
       "      <td>3087</td>\n",
       "      <td>2</td>\n",
       "      <td>43</td>\n",
       "      <td>16</td>\n",
       "      <td>0</td>\n",
       "    </tr>\n",
       "  </tbody>\n",
       "</table>\n",
       "<p>1 rows × 31 columns</p>\n",
       "</div>"
      ],
      "text/plain": [
       "      ID             NAME  NATION POSITION         TEAM AGE  90S SCA SCA90  \\\n",
       "257  257  Vinicius Júnior  br BRA       FW  Real Madrid  18  9.7  44  4.56   \n",
       "\n",
       "    GCA  ... ASSIST SHOTPASSES TOTALTOUCHES TOTALDRIBBLES %TOTALDRIBBLES  \\\n",
       "257   5  ...      0         14          496            40           65.6   \n",
       "\n",
       "    DISTANCE GOALS SHOTS SHOTSONTARGET FREEKICKS  \n",
       "257     3087     2    43            16         0  \n",
       "\n",
       "[1 rows x 31 columns]"
      ]
     },
     "execution_count": 22,
     "metadata": {},
     "output_type": "execute_result"
    }
   ],
   "source": [
    "df_names = df[['NAME']]\n",
    "df[df['NAME']==\"Vinicius Júnior\"]"
   ]
  },
  {
   "cell_type": "code",
   "execution_count": 23,
   "id": "96216a41",
   "metadata": {},
   "outputs": [],
   "source": [
    "df_names.to_excel('nombres_stats_2018_2019.xlsx')"
   ]
  },
  {
   "cell_type": "code",
   "execution_count": 24,
   "id": "586cf7f2",
   "metadata": {},
   "outputs": [],
   "source": [
    "def normalize(s):\n",
    "    replacements = (\n",
    "        (\"á\", \"a\"),\n",
    "        (\"é\", \"e\"),\n",
    "        (\"í\", \"i\"),\n",
    "        (\"ó\", \"o\"),\n",
    "        (\"ú\", \"u\"),\n",
    "    )\n",
    "    for a, b in replacements:\n",
    "        s = s.replace(a, b).replace(a.upper(), b.upper())\n",
    "    return s"
   ]
  },
  {
   "cell_type": "code",
   "execution_count": 25,
   "id": "0027c987",
   "metadata": {},
   "outputs": [],
   "source": [
    "#Le quito las tildes\n",
    "LISTA = df[\"NAME\"].to_list()\n",
    "for i in range(len(LISTA)):\n",
    "    LISTA[i] = normalize(LISTA[i])\n",
    "df[\"NAME\"] = LISTA"
   ]
  },
  {
   "cell_type": "code",
   "execution_count": 26,
   "id": "2c6f3104",
   "metadata": {},
   "outputs": [],
   "source": [
    "valoraciones_2020 = pd.read_csv(\"Valoraciones_2020.csv\")\n",
    "valoraciones_2020 = valoraciones_2020.drop(['Unnamed: 0'],axis = 1)\n",
    "valoraciones_2020.columns = [\"NAME\", \"VAL\"] #Para que la columna de nombres se llame igual\n",
    "df = df.merge(valoraciones_2020, how = \"inner\",on = \"NAME\")\n",
    "df.to_csv(\"2018-2019_datos.csv\")"
   ]
  }
 ],
 "metadata": {
  "kernelspec": {
   "display_name": "Python 3 (ipykernel)",
   "language": "python",
   "name": "python3"
  },
  "language_info": {
   "codemirror_mode": {
    "name": "ipython",
    "version": 3
   },
   "file_extension": ".py",
   "mimetype": "text/x-python",
   "name": "python",
   "nbconvert_exporter": "python",
   "pygments_lexer": "ipython3",
   "version": "3.9.12"
  }
 },
 "nbformat": 4,
 "nbformat_minor": 5
}
