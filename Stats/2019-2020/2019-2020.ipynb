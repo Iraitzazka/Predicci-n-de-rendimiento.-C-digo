{
 "cells": [
  {
   "cell_type": "code",
   "execution_count": 1,
   "id": "568b272f",
   "metadata": {},
   "outputs": [],
   "source": [
    "import pandas as pd"
   ]
  },
  {
   "cell_type": "code",
   "execution_count": 2,
   "id": "b2f6e8d0",
   "metadata": {},
   "outputs": [],
   "source": [
    "df1 = pd.read_csv(\"2019-2020assists.csv\")\n",
    "df2 = pd.read_csv(\"2019-2020defensive.csv\")\n",
    "df3 = pd.read_csv(\"2019-2020passes.csv\")\n",
    "df4 = pd.read_csv(\"2019-2020possession.csv\")\n",
    "df5 = pd.read_csv(\"2019-2020shoots.csv\")\n",
    "df6 = pd.read_csv(\"2019-2020porteros.csv\")"
   ]
  },
  {
   "cell_type": "markdown",
   "id": "d1c80acb",
   "metadata": {},
   "source": [
    "### Asistencias"
   ]
  },
  {
   "cell_type": "code",
   "execution_count": 3,
   "id": "ee592dc8",
   "metadata": {},
   "outputs": [],
   "source": [
    "df1_1 = df1.drop([\"Unnamed: 6\",\"Unnamed: 24\",\"-additional\", 'SCA Types', 'SCA Types.1','SCA Types.2','SCA Types.3','SCA Types.4','SCA Types.5','GCA Types', 'GCA Types.1','GCA Types.2','GCA Types.3','GCA Types.4','GCA Types.5' ], axis = 1)\n",
    "df1_1.columns = ['ID', 'NAME', 'NATION', 'POSITION', 'TEAM', 'AGE', '90S', 'SCA','SCA90','GCA','GCA90']\n",
    "df1_2 = df1_1.drop([0], axis = 0)"
   ]
  },
  {
   "cell_type": "markdown",
   "id": "bdb28345",
   "metadata": {},
   "source": [
    "### Defensa"
   ]
  },
  {
   "cell_type": "code",
   "execution_count": 4,
   "id": "0b974009",
   "metadata": {},
   "outputs": [],
   "source": [
    "df2_1 = df2.drop(['Unnamed: 6','Tackles.2', 'Tackles.3','Tackles.4','Vs Dribbles.1','Vs Dribbles.3','Pressures.1','Pressures.3','Pressures.4','Pressures.5','Blocks.1','Blocks.2','Blocks.3', 'Unnamed: 28', 'Unnamed: 29', 'Unnamed: 30', 'Unnamed: 31', '-additional'], axis = 1)\n",
    "df2_1.columns = ['ID', 'NAME', 'NATION', 'POSITION', 'TEAM', 'AGE', '90S', 'TACKLES','TACKLESWIN','VSDRIBLETACKLE','%VSDRIBLETACKLE', 'PRESSURE', '%PRESSUREWIN', 'BLOCKS', 'INTERCEPTIONS']\n",
    "df2_2 = df2_1.drop([0], axis = 0)"
   ]
  },
  {
   "cell_type": "markdown",
   "id": "f1cadb74",
   "metadata": {},
   "source": [
    "### Pases"
   ]
  },
  {
   "cell_type": "code",
   "execution_count": 5,
   "id": "2aa404fa",
   "metadata": {},
   "outputs": [],
   "source": [
    "df3_1 = df3.drop(['Unnamed: 6','Total.1', 'Total.3','Total.4','Short','Short.1','Short.2','Medium','Medium.1','Medium.2','Long','Long.1','Long.2','Unnamed: 23','Unnamed: 24','Unnamed: 26','Unnamed: 27', 'Unnamed: 28', 'Unnamed: 29', 'Unnamed: 30', '-additional'], axis = 1)\n",
    "df3_1.columns = ['ID', 'NAME', 'NATION', 'POSITION', 'TEAM', 'AGE', '90S', 'TOTALPASSES','%TOTALPASSES','ASSIST','SHOTPASSES']\n",
    "df3_2 = df3_1.drop([0], axis = 0)"
   ]
  },
  {
   "cell_type": "markdown",
   "id": "1ad08d29",
   "metadata": {},
   "source": [
    "### Posesion"
   ]
  },
  {
   "cell_type": "code",
   "execution_count": 6,
   "id": "f501ca97",
   "metadata": {},
   "outputs": [],
   "source": [
    "df4_1 = df4.drop(['Unnamed: 6','Touches.1', 'Touches.2','Touches.3','Touches.4','Touches.5','Touches.6','Dribbles.1','Dribbles.3','Dribbles.4','Carries','Carries.2','Carries.3','Carries.4','Carries.5','Carries.6','Carries.7','Receiving.1','Receiving','Receiving.2','Receiving.3', 'Unnamed: 32', '-additional'], axis = 1)\n",
    "df4_1.columns = ['ID', 'NAME', 'NATION', 'POSITION', 'TEAM', 'AGE', '90S', 'TOTALTOUCHES','TOTALDRIBBLES','%TOTALDRIBBLES','DISTANCE']\n",
    "df4_2 = df4_1.drop([0], axis = 0)"
   ]
  },
  {
   "cell_type": "markdown",
   "id": "d6cd3304",
   "metadata": {},
   "source": [
    "### Tiros"
   ]
  },
  {
   "cell_type": "code",
   "execution_count": 7,
   "id": "72f8b2f4",
   "metadata": {},
   "outputs": [],
   "source": [
    "df5_1 = df5.drop(['Unnamed: 6','Standard.2', 'Standard.3','Standard.4','Standard.5','Standard.6','Standard.7','Performance','Performance.1','Expected','Expected.1','Expected.2','Expected.3','Expected.4', 'Unnamed: 25', '-additional'], axis = 1)\n",
    "df5_1.columns = ['ID', 'NAME', 'NATION', 'POSITION', 'TEAM', 'AGE', '90S', 'GOALS','SHOTS','SHOTSONTARGET','FREEKICKS']\n",
    "df5_2 = df5_1.drop([0], axis = 0)"
   ]
  },
  {
   "cell_type": "markdown",
   "id": "0537c626",
   "metadata": {},
   "source": [
    "### Porteros"
   ]
  },
  {
   "cell_type": "code",
   "execution_count": 8,
   "id": "ed8f0af2",
   "metadata": {},
   "outputs": [],
   "source": [
    "df6_1 = df6.drop(['Unnamed: 6','Playing Time', 'Playing Time.1','Playing Time.2','Performance.1','Performance.4','Unnamed: 16','Unnamed: 17','Unnamed: 18','Performance.5','Performance.6','Performance.7','Penalty Kicks.2','Penalty Kicks.3', 'Unnamed: 26', '-additional'], axis = 1)\n",
    "df6_1.columns = ['ID', 'NAME', 'NATION', 'POSITION', 'TEAM', 'AGE', '90S', 'GOALSAGAINST','SHOTSONTARGETAGAINST','SAVES', 'PENALTYALLOWED', 'PENALTYSAVED']\n",
    "df6_2 = df6_1.drop([0], axis = 0)"
   ]
  },
  {
   "cell_type": "code",
   "execution_count": 9,
   "id": "9d6c95cd",
   "metadata": {},
   "outputs": [],
   "source": [
    "df = pd.concat([df1_2,df2_2[df2_2.columns[-8:]],df3_2[df3_2.columns[-4:]],df4_2[df4_2.columns[-4:]],df5_2[df5_2.columns[-4:]]], axis = 1)"
   ]
  },
  {
   "cell_type": "code",
   "execution_count": 10,
   "id": "4770fc80",
   "metadata": {},
   "outputs": [
    {
     "data": {
      "text/html": [
       "<div>\n",
       "<style scoped>\n",
       "    .dataframe tbody tr th:only-of-type {\n",
       "        vertical-align: middle;\n",
       "    }\n",
       "\n",
       "    .dataframe tbody tr th {\n",
       "        vertical-align: top;\n",
       "    }\n",
       "\n",
       "    .dataframe thead th {\n",
       "        text-align: right;\n",
       "    }\n",
       "</style>\n",
       "<table border=\"1\" class=\"dataframe\">\n",
       "  <thead>\n",
       "    <tr style=\"text-align: right;\">\n",
       "      <th></th>\n",
       "      <th>ID</th>\n",
       "      <th>NAME</th>\n",
       "      <th>NATION</th>\n",
       "      <th>POSITION</th>\n",
       "      <th>TEAM</th>\n",
       "      <th>AGE</th>\n",
       "      <th>90S</th>\n",
       "      <th>SCA</th>\n",
       "      <th>SCA90</th>\n",
       "      <th>GCA</th>\n",
       "      <th>...</th>\n",
       "      <th>ASSIST</th>\n",
       "      <th>SHOTPASSES</th>\n",
       "      <th>TOTALTOUCHES</th>\n",
       "      <th>TOTALDRIBBLES</th>\n",
       "      <th>%TOTALDRIBBLES</th>\n",
       "      <th>DISTANCE</th>\n",
       "      <th>GOALS</th>\n",
       "      <th>SHOTS</th>\n",
       "      <th>SHOTSONTARGET</th>\n",
       "      <th>FREEKICKS</th>\n",
       "    </tr>\n",
       "  </thead>\n",
       "  <tbody>\n",
       "  </tbody>\n",
       "</table>\n",
       "<p>0 rows × 31 columns</p>\n",
       "</div>"
      ],
      "text/plain": [
       "Empty DataFrame\n",
       "Columns: [ID, NAME, NATION, POSITION, TEAM, AGE, 90S, SCA, SCA90, GCA, GCA90, TACKLES, TACKLESWIN, VSDRIBLETACKLE, %VSDRIBLETACKLE, PRESSURE, %PRESSUREWIN, BLOCKS, INTERCEPTIONS, TOTALPASSES, %TOTALPASSES, ASSIST, SHOTPASSES, TOTALTOUCHES, TOTALDRIBBLES, %TOTALDRIBBLES, DISTANCE, GOALS, SHOTS, SHOTSONTARGET, FREEKICKS]\n",
       "Index: []\n",
       "\n",
       "[0 rows x 31 columns]"
      ]
     },
     "execution_count": 10,
     "metadata": {},
     "output_type": "execute_result"
    }
   ],
   "source": [
    "df_names = df[['NAME']]\n",
    "df[df['NAME']==\"Sergio\"]"
   ]
  },
  {
   "cell_type": "code",
   "execution_count": 11,
   "id": "466c70ea",
   "metadata": {},
   "outputs": [],
   "source": [
    "df_names.to_excel('nombres_stats_2019_2020.xlsx')"
   ]
  },
  {
   "cell_type": "code",
   "execution_count": 12,
   "id": "96f6a5ec",
   "metadata": {},
   "outputs": [],
   "source": [
    "def normalize(s):\n",
    "    replacements = (\n",
    "        (\"á\", \"a\"),\n",
    "        (\"é\", \"e\"),\n",
    "        (\"í\", \"i\"),\n",
    "        (\"ó\", \"o\"),\n",
    "        (\"ú\", \"u\"),\n",
    "    )\n",
    "    for a, b in replacements:\n",
    "        s = s.replace(a, b).replace(a.upper(), b.upper())\n",
    "    return s"
   ]
  },
  {
   "cell_type": "code",
   "execution_count": 13,
   "id": "fa747cfc",
   "metadata": {},
   "outputs": [],
   "source": [
    "#Le quito las tildes\n",
    "LISTA = df[\"NAME\"].to_list()\n",
    "for i in range(len(LISTA)):\n",
    "    LISTA[i] = normalize(LISTA[i])\n",
    "df[\"NAME\"] = LISTA"
   ]
  },
  {
   "cell_type": "code",
   "execution_count": 14,
   "id": "9f7b581b",
   "metadata": {},
   "outputs": [],
   "source": [
    "valoraciones_2021 = pd.read_csv(\"Valoraciones_2021.csv\")\n",
    "valoraciones_2021 = valoraciones_2021.drop(['Unnamed: 0'],axis = 1)\n",
    "valoraciones_2021.columns = [\"NAME\", \"VAL\"] #Para que la columna de nombres se llame igual\n",
    "df = df.merge(valoraciones_2021, how = \"inner\",on = \"NAME\")\n",
    "df.to_csv(\"2019-2020_datos.csv\")"
   ]
  }
 ],
 "metadata": {
  "kernelspec": {
   "display_name": "Python 3 (ipykernel)",
   "language": "python",
   "name": "python3"
  },
  "language_info": {
   "codemirror_mode": {
    "name": "ipython",
    "version": 3
   },
   "file_extension": ".py",
   "mimetype": "text/x-python",
   "name": "python",
   "nbconvert_exporter": "python",
   "pygments_lexer": "ipython3",
   "version": "3.9.12"
  }
 },
 "nbformat": 4,
 "nbformat_minor": 5
}
