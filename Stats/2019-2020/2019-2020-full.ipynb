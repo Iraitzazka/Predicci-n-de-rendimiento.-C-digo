{
 "cells": [
  {
   "cell_type": "code",
   "execution_count": 2,
   "id": "568b272f",
   "metadata": {},
   "outputs": [],
   "source": [
    "import pandas as pd"
   ]
  },
  {
   "cell_type": "code",
   "execution_count": 3,
   "id": "b2f6e8d0",
   "metadata": {},
   "outputs": [],
   "source": [
    "df1 = pd.read_csv(\"2019-2020assists.csv\")\n",
    "df2 = pd.read_csv(\"2019-2020defensive.csv\")\n",
    "df3 = pd.read_csv(\"2019-2020passes.csv\")\n",
    "df4 = pd.read_csv(\"2019-2020possession.csv\")\n",
    "df5 = pd.read_csv(\"2019-2020shoots.csv\")\n",
    "df6 = pd.read_csv(\"2019-2020porteros.csv\")"
   ]
  },
  {
   "cell_type": "markdown",
   "id": "d1c80acb",
   "metadata": {},
   "source": [
    "### Asistencias"
   ]
  },
  {
   "cell_type": "code",
   "execution_count": 5,
   "id": "ee592dc8",
   "metadata": {},
   "outputs": [],
   "source": [
    "df1_1 = df1.drop([\"Unnamed: 2\",\"Unnamed: 3\",\"Unnamed: 4\",\"Unnamed: 5\",\"Unnamed: 6\",\"Unnamed: 24\",\"-additional\"], axis = 1)\n",
    "df1_1.columns = list(df1_1.iloc[0])\n",
    "df1_2 = df1_1.drop([0], axis = 0)"
   ]
  },
  {
   "cell_type": "markdown",
   "id": "bdb28345",
   "metadata": {},
   "source": [
    "### Defensa"
   ]
  },
  {
   "cell_type": "code",
   "execution_count": 7,
   "id": "0b974009",
   "metadata": {},
   "outputs": [],
   "source": [
    "df2_1 = df2.drop([\"Unnamed: 1\",\"Unnamed: 2\",\"Unnamed: 3\",\"Unnamed: 4\",\"Unnamed: 5\",\"Unnamed: 6\",\"Unnamed: 31\",\"-additional\"], axis = 1)\n",
    "df2_1.columns = list(df2_1.iloc[0])\n",
    "df2_2 = df2_1.drop([0], axis = 0)"
   ]
  },
  {
   "cell_type": "markdown",
   "id": "f1cadb74",
   "metadata": {},
   "source": [
    "### Pases"
   ]
  },
  {
   "cell_type": "code",
   "execution_count": 9,
   "id": "2aa404fa",
   "metadata": {},
   "outputs": [],
   "source": [
    "df3_1 = df3.drop([\"Unnamed: 1\",\"Unnamed: 2\",\"Unnamed: 3\",\"Unnamed: 4\",\"Unnamed: 5\",\"Unnamed: 6\",\"Unnamed: 30\",\"-additional\"], axis = 1)\n",
    "df3_1.columns = list(df3_1.iloc[0])\n",
    "df3_2 = df3_1.drop([0], axis = 0)"
   ]
  },
  {
   "cell_type": "markdown",
   "id": "1ad08d29",
   "metadata": {},
   "source": [
    "### Posesion"
   ]
  },
  {
   "cell_type": "code",
   "execution_count": 11,
   "id": "f501ca97",
   "metadata": {},
   "outputs": [],
   "source": [
    "df4_1 = df4.drop([\"Unnamed: 1\",\"Unnamed: 2\",\"Unnamed: 3\",\"Unnamed: 4\",\"Unnamed: 5\",\"Unnamed: 6\",\"Unnamed: 32\",\"-additional\"], axis = 1)\n",
    "df4_1.columns = list(df4_1.iloc[0])\n",
    "df4_2 = df4_1.drop([0], axis = 0)"
   ]
  },
  {
   "cell_type": "markdown",
   "id": "d6cd3304",
   "metadata": {},
   "source": [
    "### Tiros"
   ]
  },
  {
   "cell_type": "code",
   "execution_count": 13,
   "id": "72f8b2f4",
   "metadata": {},
   "outputs": [],
   "source": [
    "df5_1 = df5.drop([\"Unnamed: 1\",\"Unnamed: 2\",\"Unnamed: 3\",\"Unnamed: 4\",\"Unnamed: 5\",\"Unnamed: 6\",\"Unnamed: 25\",\"-additional\"], axis = 1)\n",
    "df5_1.columns = list(df5_1.iloc[0])\n",
    "df5_2 = df5_1.drop([0], axis = 0)"
   ]
  },
  {
   "cell_type": "markdown",
   "id": "0537c626",
   "metadata": {},
   "source": [
    "### Porteros"
   ]
  },
  {
   "cell_type": "code",
   "execution_count": 15,
   "id": "ed8f0af2",
   "metadata": {},
   "outputs": [],
   "source": [
    "df6_1 = df6.drop([\"Unnamed: 1\",\"Unnamed: 2\",\"Unnamed: 3\",\"Unnamed: 4\",\"Unnamed: 5\",\"Unnamed: 6\",\"Unnamed: 26\",\"-additional\"], axis = 1)\n",
    "df6_1.columns = list(df6_1.iloc[0])\n",
    "df6_2 = df6_1.drop([0], axis = 0)"
   ]
  },
  {
   "cell_type": "code",
   "execution_count": 16,
   "id": "9d6c95cd",
   "metadata": {},
   "outputs": [],
   "source": [
    "df = pd.concat([df1_2,df2_2,df3_2,df4_2,df5_2], axis = 1)"
   ]
  },
  {
   "cell_type": "code",
   "execution_count": 17,
   "id": "4770fc80",
   "metadata": {},
   "outputs": [],
   "source": [
    "#df_names = df[['NAME']]\n",
    "##df[df['NAME']==\"Sergio\"]"
   ]
  },
  {
   "cell_type": "code",
   "execution_count": 18,
   "id": "466c70ea",
   "metadata": {},
   "outputs": [],
   "source": [
    "#df_names.to_excel('nombres_stats_2019_2020.xlsx')"
   ]
  },
  {
   "cell_type": "code",
   "execution_count": 19,
   "id": "96f6a5ec",
   "metadata": {},
   "outputs": [],
   "source": [
    "def normalize(s):\n",
    "    replacements = (\n",
    "        (\"á\", \"a\"),\n",
    "        (\"é\", \"e\"),\n",
    "        (\"í\", \"i\"),\n",
    "        (\"ó\", \"o\"),\n",
    "        (\"ú\", \"u\"),\n",
    "    )\n",
    "    for a, b in replacements:\n",
    "        s = s.replace(a, b).replace(a.upper(), b.upper())\n",
    "    return s"
   ]
  },
  {
   "cell_type": "code",
   "execution_count": 20,
   "id": "fa747cfc",
   "metadata": {},
   "outputs": [],
   "source": [
    "##Le quito las tildes\n",
    "#LISTA = df[\"NAME\"].to_list()\n",
    "#for i in range(len(LISTA)):\n",
    "#    LISTA[i] = normalize(LISTA[i])\n",
    "#df[\"NAME\"] = LISTA"
   ]
  },
  {
   "cell_type": "code",
   "execution_count": 21,
   "id": "9f7b581b",
   "metadata": {},
   "outputs": [],
   "source": [
    "valoraciones_2021 = pd.read_csv(\"Valoraciones_2021.csv\")\n",
    "valoraciones_2021 = valoraciones_2021.drop(['Unnamed: 0'],axis = 1)\n",
    "valoraciones_2021.columns = [\"Player\", \"VAL\"] #Para que la columna de nombres se llame igual\n",
    "df = df.merge(valoraciones_2021, how = \"inner\",on = \"Player\")\n",
    "df.to_csv(\"2019-2020_datos_full.csv\")"
   ]
  },
  {
   "cell_type": "code",
   "execution_count": null,
   "id": "d1b82572",
   "metadata": {},
   "outputs": [],
   "source": []
  }
 ],
 "metadata": {
  "kernelspec": {
   "display_name": "Python 3 (ipykernel)",
   "language": "python",
   "name": "python3"
  },
  "language_info": {
   "codemirror_mode": {
    "name": "ipython",
    "version": 3
   },
   "file_extension": ".py",
   "mimetype": "text/x-python",
   "name": "python",
   "nbconvert_exporter": "python",
   "pygments_lexer": "ipython3",
   "version": "3.9.12"
  }
 },
 "nbformat": 4,
 "nbformat_minor": 5
}
