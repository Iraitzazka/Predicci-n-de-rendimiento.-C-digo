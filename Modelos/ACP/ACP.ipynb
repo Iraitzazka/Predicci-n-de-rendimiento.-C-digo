{
 "cells": [
  {
   "cell_type": "code",
   "execution_count": 1,
   "id": "8df273c5",
   "metadata": {},
   "outputs": [],
   "source": [
    "import nbimporter\n",
    "import pandas as pd\n",
    "from sklearn.linear_model import LinearRegression\n",
    "from sklearn.model_selection import train_test_split\n",
    "import numpy as np\n",
    "from sklearn.model_selection import cross_val_score\n",
    "from sklearn.metrics import mean_squared_error\n",
    "import matplotlib.pyplot as plt\n",
    "from Funciones import CV\n",
    "\n",
    "from sklearn.datasets import load_boston\n",
    "import matplotlib\n",
    "import matplotlib.pyplot as plt\n",
    "import seaborn as sns\n",
    "from scipy import stats\n",
    "import statsmodels.api as sm\n",
    "%matplotlib inline\n",
    "from sklearn.feature_selection import RFE\n",
    "from sklearn.linear_model import RidgeCV, LassoCV, Ridge, Lasso"
   ]
  },
  {
   "cell_type": "code",
   "execution_count": 2,
   "id": "3b2de2b4",
   "metadata": {},
   "outputs": [],
   "source": [
    "df = pd.read_csv(\"datos_limpios_acp\")\n",
    "df = df.drop(['Unnamed: 0'], axis = 1)"
   ]
  },
  {
   "cell_type": "code",
   "execution_count": 3,
   "id": "5f82945b",
   "metadata": {},
   "outputs": [
    {
     "name": "stdout",
     "output_type": "stream",
     "text": [
      "<class 'pandas.core.frame.DataFrame'>\n",
      "RangeIndex: 1248 entries, 0 to 1247\n",
      "Data columns (total 83 columns):\n",
      " #   Column      Non-Null Count  Dtype  \n",
      "---  ------      --------------  -----  \n",
      " 0   90s         1248 non-null   float64\n",
      " 1   SCA         1248 non-null   float64\n",
      " 2   SCA90       1248 non-null   float64\n",
      " 3   PassLive    1248 non-null   float64\n",
      " 4   PassDead    1248 non-null   float64\n",
      " 5   Sh          1248 non-null   float64\n",
      " 6   Fld         1248 non-null   float64\n",
      " 7   Def         1248 non-null   float64\n",
      " 8   GCA         1248 non-null   float64\n",
      " 9   GCA90       1248 non-null   float64\n",
      " 10  PassLive.1  1248 non-null   float64\n",
      " 11  PassDead.1  1248 non-null   float64\n",
      " 12  Sh.1        1248 non-null   float64\n",
      " 13  Fld.1       1248 non-null   float64\n",
      " 14  Def.1       1248 non-null   float64\n",
      " 15  Rk.1        1248 non-null   float64\n",
      " 16  90s.1       1248 non-null   float64\n",
      " 17  Tkl         1248 non-null   float64\n",
      " 18  TklW        1248 non-null   float64\n",
      " 19  Def 3rd     1248 non-null   float64\n",
      " 20  Mid 3rd     1248 non-null   float64\n",
      " 21  Att 3rd     1248 non-null   float64\n",
      " 22  Tkl.1       1248 non-null   float64\n",
      " 23  Att         1248 non-null   float64\n",
      " 24  Blocks      1248 non-null   float64\n",
      " 25  Sh.2        1248 non-null   float64\n",
      " 26  Pass        1248 non-null   float64\n",
      " 27  Int         1248 non-null   float64\n",
      " 28  Tkl+Int     1248 non-null   float64\n",
      " 29  Clr         1248 non-null   float64\n",
      " 30  Err         1248 non-null   float64\n",
      " 31  Rk.2        1248 non-null   float64\n",
      " 32  90s.2       1248 non-null   float64\n",
      " 33  Cmp         1248 non-null   float64\n",
      " 34  Att.1       1248 non-null   float64\n",
      " 35  TotDist     1248 non-null   float64\n",
      " 36  PrgDist     1248 non-null   float64\n",
      " 37  Cmp.1       1248 non-null   float64\n",
      " 38  Att.2       1248 non-null   float64\n",
      " 39  Cmp.2       1248 non-null   float64\n",
      " 40  Att.3       1248 non-null   float64\n",
      " 41  Cmp.3       1248 non-null   float64\n",
      " 42  Att.4       1248 non-null   float64\n",
      " 43  Ast         1248 non-null   float64\n",
      " 44  xA          1248 non-null   float64\n",
      " 45  KP          1248 non-null   float64\n",
      " 46  1/3         1248 non-null   float64\n",
      " 47  PPA         1248 non-null   float64\n",
      " 48  CrsPA       1248 non-null   float64\n",
      " 49  Rk.3        1248 non-null   float64\n",
      " 50  90s.3       1248 non-null   float64\n",
      " 51  Touches     1248 non-null   float64\n",
      " 52  Def Pen     1248 non-null   float64\n",
      " 53  Def 3rd.1   1248 non-null   float64\n",
      " 54  Mid 3rd.1   1248 non-null   float64\n",
      " 55  Att 3rd.1   1248 non-null   float64\n",
      " 56  Att Pen     1248 non-null   float64\n",
      " 57  Live        1248 non-null   float64\n",
      " 58  Att.5       1248 non-null   float64\n",
      " 59  Succ        1248 non-null   float64\n",
      " 60  Carries     1248 non-null   float64\n",
      " 61  TotDist.1   1248 non-null   float64\n",
      " 62  PrgDist.1   1248 non-null   float64\n",
      " 63  1/3.1       1248 non-null   float64\n",
      " 64  CPA         1248 non-null   float64\n",
      " 65  Mis         1248 non-null   float64\n",
      " 66  Dis         1248 non-null   float64\n",
      " 67  Rec         1248 non-null   float64\n",
      " 68  Rk.4        1248 non-null   float64\n",
      " 69  90s.4       1248 non-null   float64\n",
      " 70  Gls         1248 non-null   float64\n",
      " 71  Sh.3        1248 non-null   float64\n",
      " 72  SoT         1248 non-null   float64\n",
      " 73  Sh/90       1248 non-null   float64\n",
      " 74  SoT/90      1248 non-null   float64\n",
      " 75  FK          1248 non-null   float64\n",
      " 76  PK          1248 non-null   float64\n",
      " 77  PKatt       1248 non-null   float64\n",
      " 78  xG          1248 non-null   float64\n",
      " 79  npxG        1248 non-null   float64\n",
      " 80  G-xG        1248 non-null   float64\n",
      " 81  np:G-xG     1248 non-null   float64\n",
      " 82  VAL         1248 non-null   int64  \n",
      "dtypes: float64(82), int64(1)\n",
      "memory usage: 809.4 KB\n"
     ]
    }
   ],
   "source": [
    "df.info()"
   ]
  },
  {
   "cell_type": "code",
   "execution_count": 4,
   "id": "8922f667",
   "metadata": {},
   "outputs": [],
   "source": [
    "#ACP\n",
    "from sklearn.decomposition import PCA\n",
    "\n",
    "#Quitamos columnas no numericas y columnas con muchos nan para no perder tantos datos\n",
    "Y = df['VAL']\n",
    "X = df.drop(['VAL'],axis = 1)\n",
    "\n",
    "pca = PCA(n_components = 0.95)\n",
    "X_reduced = pca.fit_transform(X)\n",
    "X_reduced = pd.DataFrame(X_reduced)\n",
    "X_reduced['VAL'] = Y"
   ]
  },
  {
   "cell_type": "code",
   "execution_count": 5,
   "id": "bd72e337",
   "metadata": {},
   "outputs": [
    {
     "data": {
      "text/plain": [
       "array([0.41146634, 0.15671575, 0.05394574, 0.04938136, 0.04082437,\n",
       "       0.02691708, 0.02296559, 0.02248183, 0.0215116 , 0.01797544,\n",
       "       0.01637844, 0.01375182, 0.01334893, 0.01174974, 0.01024534,\n",
       "       0.00907141, 0.00868219, 0.00831042, 0.0074702 , 0.0067463 ,\n",
       "       0.00582124, 0.00520807, 0.00485877, 0.00479244])"
      ]
     },
     "execution_count": 5,
     "metadata": {},
     "output_type": "execute_result"
    }
   ],
   "source": [
    "pca.explained_variance_ratio_"
   ]
  },
  {
   "cell_type": "code",
   "execution_count": 6,
   "id": "4829b7b1",
   "metadata": {
    "scrolled": true
   },
   "outputs": [
    {
     "data": {
      "text/html": [
       "<div>\n",
       "<style scoped>\n",
       "    .dataframe tbody tr th:only-of-type {\n",
       "        vertical-align: middle;\n",
       "    }\n",
       "\n",
       "    .dataframe tbody tr th {\n",
       "        vertical-align: top;\n",
       "    }\n",
       "\n",
       "    .dataframe thead th {\n",
       "        text-align: right;\n",
       "    }\n",
       "</style>\n",
       "<table border=\"1\" class=\"dataframe\">\n",
       "  <thead>\n",
       "    <tr style=\"text-align: right;\">\n",
       "      <th></th>\n",
       "      <th>0</th>\n",
       "      <th>1</th>\n",
       "      <th>2</th>\n",
       "      <th>3</th>\n",
       "      <th>4</th>\n",
       "      <th>5</th>\n",
       "      <th>6</th>\n",
       "      <th>7</th>\n",
       "      <th>8</th>\n",
       "      <th>9</th>\n",
       "      <th>...</th>\n",
       "      <th>15</th>\n",
       "      <th>16</th>\n",
       "      <th>17</th>\n",
       "      <th>18</th>\n",
       "      <th>19</th>\n",
       "      <th>20</th>\n",
       "      <th>21</th>\n",
       "      <th>22</th>\n",
       "      <th>23</th>\n",
       "      <th>VAL</th>\n",
       "    </tr>\n",
       "  </thead>\n",
       "  <tbody>\n",
       "    <tr>\n",
       "      <th>0</th>\n",
       "      <td>1.154902</td>\n",
       "      <td>6.697862</td>\n",
       "      <td>4.190885</td>\n",
       "      <td>3.934623</td>\n",
       "      <td>-2.551136</td>\n",
       "      <td>1.620028</td>\n",
       "      <td>3.117222</td>\n",
       "      <td>2.295447</td>\n",
       "      <td>0.738121</td>\n",
       "      <td>-2.059940</td>\n",
       "      <td>...</td>\n",
       "      <td>-0.688948</td>\n",
       "      <td>1.058973</td>\n",
       "      <td>0.406132</td>\n",
       "      <td>-1.018599</td>\n",
       "      <td>-0.938202</td>\n",
       "      <td>0.064300</td>\n",
       "      <td>0.747147</td>\n",
       "      <td>0.836610</td>\n",
       "      <td>-0.313494</td>\n",
       "      <td>83</td>\n",
       "    </tr>\n",
       "    <tr>\n",
       "      <th>1</th>\n",
       "      <td>-6.834173</td>\n",
       "      <td>1.523848</td>\n",
       "      <td>-0.452237</td>\n",
       "      <td>3.516425</td>\n",
       "      <td>0.408631</td>\n",
       "      <td>1.264399</td>\n",
       "      <td>1.334369</td>\n",
       "      <td>0.030294</td>\n",
       "      <td>-0.099693</td>\n",
       "      <td>0.464811</td>\n",
       "      <td>...</td>\n",
       "      <td>0.046431</td>\n",
       "      <td>-0.781389</td>\n",
       "      <td>-1.066324</td>\n",
       "      <td>0.064653</td>\n",
       "      <td>0.165205</td>\n",
       "      <td>-0.780572</td>\n",
       "      <td>-0.525212</td>\n",
       "      <td>0.692964</td>\n",
       "      <td>-0.252419</td>\n",
       "      <td>73</td>\n",
       "    </tr>\n",
       "    <tr>\n",
       "      <th>2</th>\n",
       "      <td>-7.652709</td>\n",
       "      <td>-0.220216</td>\n",
       "      <td>-0.723709</td>\n",
       "      <td>3.325955</td>\n",
       "      <td>0.733403</td>\n",
       "      <td>-0.140244</td>\n",
       "      <td>-0.117783</td>\n",
       "      <td>0.569758</td>\n",
       "      <td>-0.055162</td>\n",
       "      <td>-1.261108</td>\n",
       "      <td>...</td>\n",
       "      <td>0.421633</td>\n",
       "      <td>-0.817909</td>\n",
       "      <td>0.773334</td>\n",
       "      <td>-0.072455</td>\n",
       "      <td>-0.268801</td>\n",
       "      <td>-0.063890</td>\n",
       "      <td>-0.044222</td>\n",
       "      <td>-0.032408</td>\n",
       "      <td>-0.082127</td>\n",
       "      <td>63</td>\n",
       "    </tr>\n",
       "    <tr>\n",
       "      <th>3</th>\n",
       "      <td>13.316366</td>\n",
       "      <td>-1.895063</td>\n",
       "      <td>-3.173858</td>\n",
       "      <td>2.919715</td>\n",
       "      <td>2.582860</td>\n",
       "      <td>1.418890</td>\n",
       "      <td>2.437824</td>\n",
       "      <td>-3.073561</td>\n",
       "      <td>5.216059</td>\n",
       "      <td>-4.608793</td>\n",
       "      <td>...</td>\n",
       "      <td>1.104819</td>\n",
       "      <td>-0.582137</td>\n",
       "      <td>-0.421671</td>\n",
       "      <td>1.135467</td>\n",
       "      <td>-0.417140</td>\n",
       "      <td>-1.445958</td>\n",
       "      <td>1.059265</td>\n",
       "      <td>0.008708</td>\n",
       "      <td>-0.386740</td>\n",
       "      <td>87</td>\n",
       "    </tr>\n",
       "    <tr>\n",
       "      <th>4</th>\n",
       "      <td>3.816830</td>\n",
       "      <td>-6.024508</td>\n",
       "      <td>0.201275</td>\n",
       "      <td>3.133235</td>\n",
       "      <td>0.901612</td>\n",
       "      <td>0.748063</td>\n",
       "      <td>2.619779</td>\n",
       "      <td>-1.658831</td>\n",
       "      <td>3.256762</td>\n",
       "      <td>-2.070229</td>\n",
       "      <td>...</td>\n",
       "      <td>0.173351</td>\n",
       "      <td>-0.301004</td>\n",
       "      <td>0.847803</td>\n",
       "      <td>-1.038437</td>\n",
       "      <td>0.672967</td>\n",
       "      <td>-0.803468</td>\n",
       "      <td>-0.543800</td>\n",
       "      <td>0.016691</td>\n",
       "      <td>2.094426</td>\n",
       "      <td>76</td>\n",
       "    </tr>\n",
       "  </tbody>\n",
       "</table>\n",
       "<p>5 rows × 25 columns</p>\n",
       "</div>"
      ],
      "text/plain": [
       "           0         1         2         3         4         5         6  \\\n",
       "0   1.154902  6.697862  4.190885  3.934623 -2.551136  1.620028  3.117222   \n",
       "1  -6.834173  1.523848 -0.452237  3.516425  0.408631  1.264399  1.334369   \n",
       "2  -7.652709 -0.220216 -0.723709  3.325955  0.733403 -0.140244 -0.117783   \n",
       "3  13.316366 -1.895063 -3.173858  2.919715  2.582860  1.418890  2.437824   \n",
       "4   3.816830 -6.024508  0.201275  3.133235  0.901612  0.748063  2.619779   \n",
       "\n",
       "          7         8         9  ...        15        16        17        18  \\\n",
       "0  2.295447  0.738121 -2.059940  ... -0.688948  1.058973  0.406132 -1.018599   \n",
       "1  0.030294 -0.099693  0.464811  ...  0.046431 -0.781389 -1.066324  0.064653   \n",
       "2  0.569758 -0.055162 -1.261108  ...  0.421633 -0.817909  0.773334 -0.072455   \n",
       "3 -3.073561  5.216059 -4.608793  ...  1.104819 -0.582137 -0.421671  1.135467   \n",
       "4 -1.658831  3.256762 -2.070229  ...  0.173351 -0.301004  0.847803 -1.038437   \n",
       "\n",
       "         19        20        21        22        23  VAL  \n",
       "0 -0.938202  0.064300  0.747147  0.836610 -0.313494   83  \n",
       "1  0.165205 -0.780572 -0.525212  0.692964 -0.252419   73  \n",
       "2 -0.268801 -0.063890 -0.044222 -0.032408 -0.082127   63  \n",
       "3 -0.417140 -1.445958  1.059265  0.008708 -0.386740   87  \n",
       "4  0.672967 -0.803468 -0.543800  0.016691  2.094426   76  \n",
       "\n",
       "[5 rows x 25 columns]"
      ]
     },
     "execution_count": 6,
     "metadata": {},
     "output_type": "execute_result"
    }
   ],
   "source": [
    "X_reduced.head()"
   ]
  },
  {
   "cell_type": "code",
   "execution_count": 7,
   "id": "843fa8df",
   "metadata": {},
   "outputs": [
    {
     "name": "stdout",
     "output_type": "stream",
     "text": [
      "4.705561219972802\n"
     ]
    }
   ],
   "source": [
    "#REGRESION LINEAL\n",
    "lin_reg = LinearRegression()\n",
    "print(CV(df,10))\n",
    "df = df.drop(['is_train'], axis = 1)"
   ]
  },
  {
   "cell_type": "code",
   "execution_count": 8,
   "id": "0dcc8ffc",
   "metadata": {},
   "outputs": [],
   "source": [
    "X_train, X_test = train_test_split(X_reduced, test_size=0.2, random_state=0)\n",
    "\n",
    "Y_train = X_train['VAL']\n",
    "Y_test = X_test['VAL']\n",
    "X_train = X_train.drop(['VAL'],axis = 1)\n",
    "X_test = X_test.drop(['VAL'],axis = 1)\n",
    "Y_train_1 = Y_train.values\n",
    "Y_test_1 = Y_test.values\n",
    "X_train_1 = X_train.values\n",
    "X_test_1 = X_test.values\n",
    "lin_reg.fit(X_train_1,Y_train_1) #hago la regresion\n",
    "Y_prediction = lin_reg.predict(X_test_1)#predigo"
   ]
  },
  {
   "cell_type": "code",
   "execution_count": 9,
   "id": "19da3cea",
   "metadata": {},
   "outputs": [
    {
     "data": {
      "text/plain": [
       "<AxesSubplot:xlabel='Y_test', ylabel='error'>"
      ]
     },
     "execution_count": 9,
     "metadata": {},
     "output_type": "execute_result"
    },
    {
     "data": {
      "image/png": "[encoded data removed]",
      "text/plain": [
       "<Figure size 432x288 with 1 Axes>"
      ]
     },
     "metadata": {
      "needs_background": "light"
     },
     "output_type": "display_data"
    }
   ],
   "source": [
    "#error según la valoracion\n",
    "df_er = pd.DataFrame([Y_test_1, Y_prediction], index = None)\n",
    "df_er.index = ['Y_test', 'Y_prediction']\n",
    "df_er = df_er.transpose()\n",
    "df_er['error'] = abs(df_er['Y_test'] - df_er['Y_prediction'])\n",
    "df_er.plot.scatter(x = 'Y_test', y = 'error', s = 10, c = 'blue' )"
   ]
  },
  {
   "cell_type": "code",
   "execution_count": 10,
   "id": "55dc669a",
   "metadata": {},
   "outputs": [
    {
     "data": {
      "text/plain": [
       "3.347745104126559"
      ]
     },
     "execution_count": 10,
     "metadata": {},
     "output_type": "execute_result"
    }
   ],
   "source": [
    "df_er['error'].mean()"
   ]
  },
  {
   "cell_type": "code",
   "execution_count": 11,
   "id": "967d06ca",
   "metadata": {},
   "outputs": [],
   "source": [
    "##########################################################################\n",
    "######## REGRESION LINEAL CON VAL > 70 ##########\n",
    "###########################################################################"
   ]
  },
  {
   "cell_type": "code",
   "execution_count": 12,
   "id": "585c9cb0",
   "metadata": {},
   "outputs": [],
   "source": [
    "#Veamos si quedandonos con datos por encima de 70 se arregla la cosa\n",
    "df1 = df[df['VAL']> 69]"
   ]
  },
  {
   "cell_type": "code",
   "execution_count": 13,
   "id": "252fc2af",
   "metadata": {},
   "outputs": [],
   "source": [
    "#Quitamos jugadores con datos NaN\n",
    "df1 = df1.dropna()\n",
    "\n",
    "X_train, X_test = train_test_split(df1, test_size=0.2, random_state=0)\n",
    "\n",
    "Y_train = X_train['VAL']\n",
    "Y_test = X_test['VAL']\n",
    "X_train = X_train.drop(['VAL'],axis = 1)\n",
    "X_test = X_test.drop(['VAL'],axis = 1)\n",
    "Y_train = Y_train.values\n",
    "Y_test = Y_test.values\n",
    "X_train = X_train.values\n",
    "X_test = X_test.values\n",
    "lin_reg.fit(X_train,Y_train) #hago la regresion\n",
    "Y_prediction = lin_reg.predict(X_test)#predigo"
   ]
  },
  {
   "cell_type": "code",
   "execution_count": 14,
   "id": "426374c5",
   "metadata": {},
   "outputs": [
    {
     "data": {
      "text/plain": [
       "<AxesSubplot:xlabel='Y_test', ylabel='error'>"
      ]
     },
     "execution_count": 14,
     "metadata": {},
     "output_type": "execute_result"
    },
    {
     "data": {
      "image/png": "[encoded data removed]",
      "text/plain": [
       "<Figure size 432x288 with 1 Axes>"
      ]
     },
     "metadata": {
      "needs_background": "light"
     },
     "output_type": "display_data"
    }
   ],
   "source": [
    "#error según la valoracion\n",
    "df_er = pd.DataFrame([Y_test, lin_reg.predict(X_test)], index = None)\n",
    "df_er.index = ['Y_test', 'yhat_test']\n",
    "df_er = df_er.transpose()\n",
    "df_er['error'] = abs(df_er['Y_test'] - df_er['yhat_test'])\n",
    "df_er.plot.scatter(x = 'Y_test', y = 'error', s = 10, c = 'blue' )"
   ]
  },
  {
   "cell_type": "code",
   "execution_count": 15,
   "id": "82d952d8",
   "metadata": {},
   "outputs": [
    {
     "data": {
      "text/plain": [
       "2.5666247414578702"
      ]
     },
     "execution_count": 15,
     "metadata": {},
     "output_type": "execute_result"
    }
   ],
   "source": [
    "df_er['error'].mean()"
   ]
  },
  {
   "cell_type": "code",
   "execution_count": 16,
   "id": "b58d2e14",
   "metadata": {},
   "outputs": [],
   "source": [
    "##########################################################################\n",
    "######## REGRESION LINEAL CON JUGADORES QUE JUEGAN MINUTOS ##########\n",
    "###########################################################################"
   ]
  },
  {
   "cell_type": "code",
   "execution_count": 17,
   "id": "6b431bcd",
   "metadata": {},
   "outputs": [],
   "source": [
    "df['90s'].quantile([0.25,0.5,0.75])\n",
    "df2 = df[df['90s']> -0.929330] #-0.929330 es el primer cuantil"
   ]
  },
  {
   "cell_type": "code",
   "execution_count": 18,
   "id": "bf714ca7",
   "metadata": {},
   "outputs": [],
   "source": [
    "#Quitamos jugadores con datos NaN\n",
    "df2 = df2.dropna()\n",
    "\n",
    "X_train, X_test = train_test_split(df2, test_size=0.2, random_state=0)\n",
    "\n",
    "Y_train = X_train['VAL']\n",
    "Y_test = X_test['VAL']\n",
    "X_train = X_train.drop(['VAL'],axis = 1)\n",
    "X_test = X_test.drop(['VAL'],axis = 1)\n",
    "Y_train = Y_train.values\n",
    "Y_test = Y_test.values\n",
    "X_train = X_train.values\n",
    "X_test = X_test.values\n",
    "lin_reg.fit(X_train,Y_train) #hago la regresion\n",
    "Y_prediction = lin_reg.predict(X_test)#predigo"
   ]
  },
  {
   "cell_type": "code",
   "execution_count": 19,
   "id": "12a4c02a",
   "metadata": {},
   "outputs": [
    {
     "data": {
      "text/plain": [
       "<AxesSubplot:xlabel='Y_test', ylabel='error'>"
      ]
     },
     "execution_count": 19,
     "metadata": {},
     "output_type": "execute_result"
    },
    {
     "data": {
      "image/png": "[encoded data removed]",
      "text/plain": [
       "<Figure size 432x288 with 1 Axes>"
      ]
     },
     "metadata": {
      "needs_background": "light"
     },
     "output_type": "display_data"
    }
   ],
   "source": [
    "#error según la valoracion\n",
    "df_er = pd.DataFrame([Y_test, lin_reg.predict(X_test)], index = None)\n",
    "df_er.index = ['Y_test', 'yhat_test']\n",
    "df_er = df_er.transpose()\n",
    "df_er['error'] = abs(df_er['Y_test'] - df_er['yhat_test'])\n",
    "df_er.plot.scatter(x = 'Y_test', y = 'error', s = 10, c = 'blue' )"
   ]
  },
  {
   "cell_type": "code",
   "execution_count": 20,
   "id": "f342ecd8",
   "metadata": {},
   "outputs": [
    {
     "data": {
      "text/plain": [
       "2.998623288402665"
      ]
     },
     "execution_count": 20,
     "metadata": {},
     "output_type": "execute_result"
    }
   ],
   "source": [
    "df_er['error'].mean()"
   ]
  },
  {
   "cell_type": "code",
   "execution_count": 21,
   "id": "5eafcb04",
   "metadata": {},
   "outputs": [],
   "source": [
    "##########################################################################\n",
    "######## REGRESION LINEAL CON VAL > 69 Y 90S > 6 #########################\n",
    "##########################################################################"
   ]
  },
  {
   "cell_type": "code",
   "execution_count": 22,
   "id": "b3552f81",
   "metadata": {},
   "outputs": [],
   "source": [
    "#Combinacion de las anteriores\n",
    "df3 = df[df['90s']> -0.929330] #-0.929330 es el primer cuantil\n",
    "df3 = df3[df3['VAL']>69]"
   ]
  },
  {
   "cell_type": "code",
   "execution_count": 23,
   "id": "1027278e",
   "metadata": {},
   "outputs": [],
   "source": [
    "#Quitamos jugadores con datos NaN\n",
    "df3 = df3.dropna()\n",
    "\n",
    "X_train, X_test = train_test_split(df3, test_size=0.2, random_state=0)\n",
    "\n",
    "Y_train = X_train['VAL']\n",
    "Y_test = X_test['VAL']\n",
    "X_train = X_train.drop(['VAL'],axis = 1)\n",
    "X_test = X_test.drop(['VAL'],axis = 1)\n",
    "Y_train = Y_train.values\n",
    "Y_test = Y_test.values\n",
    "X_train = X_train.values\n",
    "X_test = X_test.values\n",
    "lin_reg.fit(X_train,Y_train) #hago la regresion\n",
    "Y_prediction = lin_reg.predict(X_test)#predigo"
   ]
  },
  {
   "cell_type": "code",
   "execution_count": 24,
   "id": "7da82001",
   "metadata": {},
   "outputs": [
    {
     "data": {
      "text/plain": [
       "<AxesSubplot:xlabel='Y_test', ylabel='error'>"
      ]
     },
     "execution_count": 24,
     "metadata": {},
     "output_type": "execute_result"
    },
    {
     "data": {
      "image/png": "[encoded data removed]",
      "text/plain": [
       "<Figure size 432x288 with 1 Axes>"
      ]
     },
     "metadata": {
      "needs_background": "light"
     },
     "output_type": "display_data"
    }
   ],
   "source": [
    "#error según la valoracion\n",
    "df_er = pd.DataFrame([Y_test, lin_reg.predict(X_test)], index = None)\n",
    "df_er.index = ['Y_test', 'yhat_test']\n",
    "df_er = df_er.transpose()\n",
    "df_er['error'] = abs(df_er['Y_test'] - df_er['yhat_test'])\n",
    "df_er.plot.scatter(x = 'Y_test', y = 'error', s = 10, c = 'blue' )"
   ]
  },
  {
   "cell_type": "code",
   "execution_count": 25,
   "id": "a9f56995",
   "metadata": {},
   "outputs": [
    {
     "data": {
      "text/plain": [
       "2.6171475618199675"
      ]
     },
     "execution_count": 25,
     "metadata": {},
     "output_type": "execute_result"
    }
   ],
   "source": [
    "df_er['error'].mean()"
   ]
  },
  {
   "cell_type": "code",
   "execution_count": null,
   "id": "e3106b75",
   "metadata": {},
   "outputs": [],
   "source": []
  },
  {
   "cell_type": "code",
   "execution_count": null,
   "id": "d526351b",
   "metadata": {},
   "outputs": [],
   "source": []
  },
  {
   "cell_type": "code",
   "execution_count": null,
   "id": "f8983c57",
   "metadata": {},
   "outputs": [],
   "source": []
  }
 ],
 "metadata": {
  "kernelspec": {
   "display_name": "Python 3 (ipykernel)",
   "language": "python",
   "name": "python3"
  },
  "language_info": {
   "codemirror_mode": {
    "name": "ipython",
    "version": 3
   },
   "file_extension": ".py",
   "mimetype": "text/x-python",
   "name": "python",
   "nbconvert_exporter": "python",
   "pygments_lexer": "ipython3",
   "version": "3.9.12"
  }
 },
 "nbformat": 4,
 "nbformat_minor": 5
}
