{
 "cells": [
  {
   "cell_type": "code",
   "execution_count": 1,
   "id": "57905345",
   "metadata": {},
   "outputs": [],
   "source": [
    "#importing libraries\n",
    "from sklearn.datasets import load_boston\n",
    "import pandas as pd\n",
    "import numpy as np\n",
    "import matplotlib\n",
    "import matplotlib.pyplot as plt\n",
    "import seaborn as sns\n",
    "from scipy import stats\n",
    "import statsmodels.api as sm\n",
    "%matplotlib inline\n",
    "from sklearn.model_selection import train_test_split\n",
    "from sklearn.linear_model import LinearRegression\n",
    "from sklearn.feature_selection import RFE\n",
    "from sklearn.linear_model import RidgeCV, LassoCV, Ridge, Lasso"
   ]
  },
  {
   "cell_type": "code",
   "execution_count": 3,
   "id": "3f3a4b2a",
   "metadata": {},
   "outputs": [],
   "source": [
    "t1 = pd.read_csv(\"2017-2018_datos_full.csv\")\n",
    "t2 = pd.read_csv(\"2018-2019_datos_full.csv\")\n",
    "t3 = pd.read_csv(\"2019-2020_datos_full.csv\")\n",
    "t4 = pd.read_csv(\"2020-2021_datos_full.csv\")\n",
    "t5 = pd.read_csv(\"2021-2022_datos_full.csv\")"
   ]
  },
  {
   "cell_type": "code",
   "execution_count": 5,
   "id": "11e2f914",
   "metadata": {},
   "outputs": [],
   "source": [
    "df = pd.concat([t1,t2,t3,t4,t5], ignore_index = True)\n",
    "#limpiamos las columnas con nan y con valores no numericos\n",
    "pd.set_option('display.max_columns', None)\n",
    "lista = []\n",
    "for i in range(len(df.columns)):\n",
    "    j = df[df.columns[i]].isna().sum()\n",
    "    if j > 0:\n",
    "        lista.append([df.columns[i]])\n",
    "for i in range(len(lista)):\n",
    "    df = df.drop(lista[i],axis = 1)\n",
    "df = df.drop(['Unnamed: 0', 'Rk', 'Player'], axis = 1)"
   ]
  },
  {
   "cell_type": "code",
   "execution_count": 6,
   "id": "5e0a3768",
   "metadata": {},
   "outputs": [],
   "source": [
    "###########LIMPIAMOS OUTLIERS ############\n",
    "z=np.abs(stats.zscore(df))\n",
    "lista = []\n",
    "for i in range(len(z)):\n",
    "    lista.append(z.iloc[i].mean())\n",
    "df['ZSCORE'] = lista\n",
    "df1 = df[df['ZSCORE'] < 1.5]\n",
    "df1 = df1.drop(['ZSCORE'], axis = 1)"
   ]
  },
  {
   "cell_type": "code",
   "execution_count": 7,
   "id": "e72c7b80",
   "metadata": {},
   "outputs": [],
   "source": [
    "########## ESTANDARIZAMOS ##############\n",
    "df1n=(df1-df1.mean())/df1.std()\n",
    "df1n = df1n.drop(['VAL'],axis = 1)\n",
    "df1n['VAL'] = df1['VAL']"
   ]
  },
  {
   "cell_type": "code",
   "execution_count": 8,
   "id": "3e5dafd2",
   "metadata": {},
   "outputs": [],
   "source": [
    "df1n.to_csv(\"datos_limpios_acp\")"
   ]
  },
  {
   "cell_type": "code",
   "execution_count": null,
   "id": "4b7c299f",
   "metadata": {},
   "outputs": [],
   "source": []
  },
  {
   "cell_type": "code",
   "execution_count": null,
   "id": "8b866604",
   "metadata": {},
   "outputs": [],
   "source": []
  }
 ],
 "metadata": {
  "kernelspec": {
   "display_name": "Python 3 (ipykernel)",
   "language": "python",
   "name": "python3"
  },
  "language_info": {
   "codemirror_mode": {
    "name": "ipython",
    "version": 3
   },
   "file_extension": ".py",
   "mimetype": "text/x-python",
   "name": "python",
   "nbconvert_exporter": "python",
   "pygments_lexer": "ipython3",
   "version": "3.9.12"
  }
 },
 "nbformat": 4,
 "nbformat_minor": 5
}
