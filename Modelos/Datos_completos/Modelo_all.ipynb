{
 "cells": [
  {
   "cell_type": "code",
   "execution_count": 9,
   "id": "7ccbcd79",
   "metadata": {},
   "outputs": [],
   "source": [
    "import nbimporter\n",
    "import pandas as pd\n",
    "from sklearn.linear_model import LinearRegression\n",
    "from sklearn.model_selection import train_test_split\n",
    "import numpy as np\n",
    "from sklearn.model_selection import cross_val_score\n",
    "from sklearn.metrics import mean_squared_error\n",
    "import matplotlib.pyplot as plt\n",
    "from Funciones import CV\n",
    "\n",
    "from sklearn.datasets import load_boston\n",
    "import matplotlib\n",
    "import matplotlib.pyplot as plt\n",
    "import seaborn as sns\n",
    "from scipy import stats\n",
    "import statsmodels.api as sm\n",
    "%matplotlib inline\n",
    "from sklearn.feature_selection import RFE\n",
    "from sklearn.linear_model import RidgeCV, LassoCV, Ridge, Lasso"
   ]
  },
  {
   "cell_type": "code",
   "execution_count": 10,
   "id": "6816cd6c",
   "metadata": {},
   "outputs": [],
   "source": [
    "lin_reg = LinearRegression()"
   ]
  },
  {
   "cell_type": "code",
   "execution_count": 11,
   "id": "1e8b51e9",
   "metadata": {},
   "outputs": [],
   "source": [
    "df = pd.read_csv(\"datos_limpios_full\")\n",
    "df = df.drop(['Unnamed: 0'], axis = 1)"
   ]
  },
  {
   "cell_type": "code",
   "execution_count": 12,
   "id": "f81cd954",
   "metadata": {},
   "outputs": [
    {
     "data": {
      "text/html": [
       "<div>\n",
       "<style scoped>\n",
       "    .dataframe tbody tr th:only-of-type {\n",
       "        vertical-align: middle;\n",
       "    }\n",
       "\n",
       "    .dataframe tbody tr th {\n",
       "        vertical-align: top;\n",
       "    }\n",
       "\n",
       "    .dataframe thead th {\n",
       "        text-align: right;\n",
       "    }\n",
       "</style>\n",
       "<table border=\"1\" class=\"dataframe\">\n",
       "  <thead>\n",
       "    <tr style=\"text-align: right;\">\n",
       "      <th></th>\n",
       "      <th>90s</th>\n",
       "      <th>SCA</th>\n",
       "      <th>SCA90</th>\n",
       "      <th>PassLive</th>\n",
       "      <th>PassDead</th>\n",
       "      <th>Sh</th>\n",
       "      <th>Fld</th>\n",
       "      <th>Def</th>\n",
       "      <th>GCA</th>\n",
       "      <th>GCA90</th>\n",
       "      <th>...</th>\n",
       "      <th>Sh/90</th>\n",
       "      <th>SoT/90</th>\n",
       "      <th>FK</th>\n",
       "      <th>PK</th>\n",
       "      <th>PKatt</th>\n",
       "      <th>xG</th>\n",
       "      <th>npxG</th>\n",
       "      <th>G-xG</th>\n",
       "      <th>np:G-xG</th>\n",
       "      <th>VAL</th>\n",
       "    </tr>\n",
       "  </thead>\n",
       "  <tbody>\n",
       "    <tr>\n",
       "      <th>0</th>\n",
       "      <td>0.732813</td>\n",
       "      <td>0.309419</td>\n",
       "      <td>-0.165855</td>\n",
       "      <td>-0.015902</td>\n",
       "      <td>-0.409064</td>\n",
       "      <td>2.623403</td>\n",
       "      <td>2.100294</td>\n",
       "      <td>0.415269</td>\n",
       "      <td>-0.283919</td>\n",
       "      <td>-0.298934</td>\n",
       "      <td>...</td>\n",
       "      <td>0.837151</td>\n",
       "      <td>0.883946</td>\n",
       "      <td>-0.330482</td>\n",
       "      <td>3.465004</td>\n",
       "      <td>5.074111</td>\n",
       "      <td>3.369886</td>\n",
       "      <td>2.544491</td>\n",
       "      <td>-1.760491</td>\n",
       "      <td>-1.366460</td>\n",
       "      <td>83</td>\n",
       "    </tr>\n",
       "    <tr>\n",
       "      <th>1</th>\n",
       "      <td>-1.245045</td>\n",
       "      <td>-0.912122</td>\n",
       "      <td>-0.578240</td>\n",
       "      <td>-1.000430</td>\n",
       "      <td>-0.409064</td>\n",
       "      <td>-0.137608</td>\n",
       "      <td>-0.272519</td>\n",
       "      <td>-0.600919</td>\n",
       "      <td>-0.283919</td>\n",
       "      <td>1.470006</td>\n",
       "      <td>...</td>\n",
       "      <td>0.830112</td>\n",
       "      <td>0.611156</td>\n",
       "      <td>-0.330482</td>\n",
       "      <td>-0.236273</td>\n",
       "      <td>-0.253577</td>\n",
       "      <td>-0.229974</td>\n",
       "      <td>-0.192367</td>\n",
       "      <td>-1.008033</td>\n",
       "      <td>-1.024160</td>\n",
       "      <td>73</td>\n",
       "    </tr>\n",
       "    <tr>\n",
       "      <th>2</th>\n",
       "      <td>-1.421473</td>\n",
       "      <td>-0.986155</td>\n",
       "      <td>-1.051269</td>\n",
       "      <td>-1.000430</td>\n",
       "      <td>-0.409064</td>\n",
       "      <td>-0.689810</td>\n",
       "      <td>-0.667987</td>\n",
       "      <td>-0.600919</td>\n",
       "      <td>-0.803086</td>\n",
       "      <td>-0.501098</td>\n",
       "      <td>...</td>\n",
       "      <td>-0.810032</td>\n",
       "      <td>-0.570937</td>\n",
       "      <td>-0.330482</td>\n",
       "      <td>-0.236273</td>\n",
       "      <td>-0.253577</td>\n",
       "      <td>-0.666320</td>\n",
       "      <td>-0.705528</td>\n",
       "      <td>-0.004756</td>\n",
       "      <td>0.002743</td>\n",
       "      <td>63</td>\n",
       "    </tr>\n",
       "    <tr>\n",
       "      <th>3</th>\n",
       "      <td>1.345670</td>\n",
       "      <td>1.382895</td>\n",
       "      <td>0.222272</td>\n",
       "      <td>2.160422</td>\n",
       "      <td>-0.219494</td>\n",
       "      <td>-0.137608</td>\n",
       "      <td>-0.667987</td>\n",
       "      <td>-0.600919</td>\n",
       "      <td>2.052330</td>\n",
       "      <td>0.408642</td>\n",
       "      <td>...</td>\n",
       "      <td>-0.465109</td>\n",
       "      <td>-0.328456</td>\n",
       "      <td>-0.330482</td>\n",
       "      <td>-0.236273</td>\n",
       "      <td>-0.253577</td>\n",
       "      <td>0.097286</td>\n",
       "      <td>0.192504</td>\n",
       "      <td>-0.088363</td>\n",
       "      <td>-0.082832</td>\n",
       "      <td>87</td>\n",
       "    </tr>\n",
       "    <tr>\n",
       "      <th>4</th>\n",
       "      <td>0.621384</td>\n",
       "      <td>-0.319860</td>\n",
       "      <td>-0.572175</td>\n",
       "      <td>-0.171354</td>\n",
       "      <td>-0.409064</td>\n",
       "      <td>-0.689810</td>\n",
       "      <td>-0.667987</td>\n",
       "      <td>-0.600919</td>\n",
       "      <td>-0.543502</td>\n",
       "      <td>-0.400016</td>\n",
       "      <td>...</td>\n",
       "      <td>-0.591815</td>\n",
       "      <td>-0.510316</td>\n",
       "      <td>-0.330482</td>\n",
       "      <td>-0.236273</td>\n",
       "      <td>-0.253577</td>\n",
       "      <td>-0.520871</td>\n",
       "      <td>-0.534474</td>\n",
       "      <td>-0.339182</td>\n",
       "      <td>-0.339558</td>\n",
       "      <td>76</td>\n",
       "    </tr>\n",
       "  </tbody>\n",
       "</table>\n",
       "<p>5 rows × 83 columns</p>\n",
       "</div>"
      ],
      "text/plain": [
       "        90s       SCA     SCA90  PassLive  PassDead        Sh       Fld  \\\n",
       "0  0.732813  0.309419 -0.165855 -0.015902 -0.409064  2.623403  2.100294   \n",
       "1 -1.245045 -0.912122 -0.578240 -1.000430 -0.409064 -0.137608 -0.272519   \n",
       "2 -1.421473 -0.986155 -1.051269 -1.000430 -0.409064 -0.689810 -0.667987   \n",
       "3  1.345670  1.382895  0.222272  2.160422 -0.219494 -0.137608 -0.667987   \n",
       "4  0.621384 -0.319860 -0.572175 -0.171354 -0.409064 -0.689810 -0.667987   \n",
       "\n",
       "        Def       GCA     GCA90  ...     Sh/90    SoT/90        FK        PK  \\\n",
       "0  0.415269 -0.283919 -0.298934  ...  0.837151  0.883946 -0.330482  3.465004   \n",
       "1 -0.600919 -0.283919  1.470006  ...  0.830112  0.611156 -0.330482 -0.236273   \n",
       "2 -0.600919 -0.803086 -0.501098  ... -0.810032 -0.570937 -0.330482 -0.236273   \n",
       "3 -0.600919  2.052330  0.408642  ... -0.465109 -0.328456 -0.330482 -0.236273   \n",
       "4 -0.600919 -0.543502 -0.400016  ... -0.591815 -0.510316 -0.330482 -0.236273   \n",
       "\n",
       "      PKatt        xG      npxG      G-xG   np:G-xG  VAL  \n",
       "0  5.074111  3.369886  2.544491 -1.760491 -1.366460   83  \n",
       "1 -0.253577 -0.229974 -0.192367 -1.008033 -1.024160   73  \n",
       "2 -0.253577 -0.666320 -0.705528 -0.004756  0.002743   63  \n",
       "3 -0.253577  0.097286  0.192504 -0.088363 -0.082832   87  \n",
       "4 -0.253577 -0.520871 -0.534474 -0.339182 -0.339558   76  \n",
       "\n",
       "[5 rows x 83 columns]"
      ]
     },
     "execution_count": 12,
     "metadata": {},
     "output_type": "execute_result"
    }
   ],
   "source": [
    "df.head()"
   ]
  },
  {
   "cell_type": "code",
   "execution_count": 13,
   "id": "a90c23e2",
   "metadata": {},
   "outputs": [],
   "source": [
    "#REGRESION LINEAL\n",
    "lin_reg = LinearRegression()\n",
    "CV(df,10)\n",
    "df = df.drop(['is_train'], axis = 1)"
   ]
  },
  {
   "cell_type": "code",
   "execution_count": 14,
   "id": "a5a2b6ee",
   "metadata": {},
   "outputs": [],
   "source": [
    "X_train, X_test = train_test_split(df, test_size=0.2, random_state=0)\n",
    "\n",
    "Y_train = X_train['VAL']\n",
    "Y_test = X_test['VAL']\n",
    "X_train = X_train.drop(['VAL'],axis = 1)\n",
    "X_test = X_test.drop(['VAL'],axis = 1)\n",
    "Y_train_1 = Y_train.values\n",
    "Y_test_1 = Y_test.values\n",
    "X_train_1 = X_train.values\n",
    "X_test_1 = X_test.values\n",
    "lin_reg.fit(X_train_1,Y_train_1) #hago la regresion\n",
    "Y_prediction = lin_reg.predict(X_test_1)#predigo"
   ]
  },
  {
   "cell_type": "code",
   "execution_count": 15,
   "id": "95099ee7",
   "metadata": {},
   "outputs": [
    {
     "data": {
      "image/png": "[encoded data removed]",
      "text/plain": [
       "<Figure size 432x288 with 1 Axes>"
      ]
     },
     "metadata": {
      "needs_background": "light"
     },
     "output_type": "display_data"
    }
   ],
   "source": [
    "l = []\n",
    "l1 =list(Y_test)\n",
    "l2 = list(Y_prediction)\n",
    "l1new = []\n",
    "l2new = []\n",
    "for i in range(len(Y_test)):\n",
    "    l.append([l1[i],l2[i]])\n",
    "while len(l) != 0:\n",
    "    c = 0\n",
    "    min = l[0][0]\n",
    "    for i in range(len(l)):\n",
    "        if l[i][0] < min:\n",
    "            min = l[i][0]\n",
    "            c = i\n",
    "    l1new.append(l[c][0])\n",
    "    l2new.append(l[c][1])\n",
    "    l.pop(c)\n",
    "n = list(range(len(Y_test)))\n",
    "fig, ax = plt.subplots()\n",
    "\n",
    "ax.plot(n, l1new, label = \"Y_test\")\n",
    "#ax.plot(n, n1, label = \"n^2 - 1\")\n",
    "ax.plot(n, l2new, label = \"Y_prediction\")\n",
    "#ax.plot(n, n2, label = \"3^(n^2)\")\n",
    "ax.legend(loc = 'upper right')\n",
    "ax.set_xlabel(\"n\")\n",
    "ax.set_ylabel(\"VAL\")\n",
    "ax.set_title(\"VALORACION ESPERADA VS PREDICHA\")\n",
    "plt.savefig('VALORACION ESPERADA VS PREDICHA.png')"
   ]
  },
  {
   "cell_type": "code",
   "execution_count": 38,
   "id": "2ab8c208",
   "metadata": {},
   "outputs": [
    {
     "data": {
      "text/plain": [
       "<AxesSubplot:xlabel='VAL', ylabel='error'>"
      ]
     },
     "execution_count": 38,
     "metadata": {},
     "output_type": "execute_result"
    },
    {
     "data": {
      "image/png": "[encoded data removed]",
      "text/plain": [
       "<Figure size 432x288 with 1 Axes>"
      ]
     },
     "metadata": {
      "needs_background": "light"
     },
     "output_type": "display_data"
    }
   ],
   "source": [
    "#error según la valoracion\n",
    "df_er = pd.DataFrame([Y_test_1, Y_prediction], index = ['VAL','Error'])\n",
    "df_er.index = ['Y_test', 'Y_prediction']\n",
    "df_er = df_er.transpose()\n",
    "df_er['error'] = abs(df_er['Y_test'] - df_er['Y_prediction'])\n",
    "df_er.plot.scatter(x = 'Y_test', y = 'error', s = 10, c = 'blue' )"
   ]
  },
  {
   "cell_type": "code",
   "execution_count": 17,
   "id": "5a023c92",
   "metadata": {},
   "outputs": [
    {
     "data": {
      "text/plain": [
       "3.3647627356783425"
      ]
     },
     "execution_count": 17,
     "metadata": {},
     "output_type": "execute_result"
    }
   ],
   "source": [
    "df_er['error'].mean()"
   ]
  },
  {
   "cell_type": "code",
   "execution_count": 18,
   "id": "e599575d",
   "metadata": {},
   "outputs": [],
   "source": [
    "##########################################################################\n",
    "######## REGRESION LINEAL CON VAL > 70 ##########\n",
    "###########################################################################"
   ]
  },
  {
   "cell_type": "code",
   "execution_count": 19,
   "id": "4f38a1b9",
   "metadata": {},
   "outputs": [],
   "source": [
    "#Veamos si quedandonos con datos por encima de 70 se arregla la cosa\n",
    "df1 = df[df['VAL']> 69]"
   ]
  },
  {
   "cell_type": "code",
   "execution_count": 20,
   "id": "6b822c3c",
   "metadata": {},
   "outputs": [],
   "source": [
    "#Quitamos jugadores con datos NaN\n",
    "df1 = df1.dropna()\n",
    "\n",
    "X_train, X_test = train_test_split(df1, test_size=0.2, random_state=0)\n",
    "\n",
    "Y_train = X_train['VAL']\n",
    "Y_test = X_test['VAL']\n",
    "X_train = X_train.drop(['VAL'],axis = 1)\n",
    "X_test = X_test.drop(['VAL'],axis = 1)\n",
    "Y_train = Y_train.values\n",
    "Y_test = Y_test.values\n",
    "X_train = X_train.values\n",
    "X_test = X_test.values\n",
    "lin_reg.fit(X_train,Y_train) #hago la regresion\n",
    "Y_prediction = lin_reg.predict(X_test)#predigo"
   ]
  },
  {
   "cell_type": "code",
   "execution_count": 21,
   "id": "2203ddbc",
   "metadata": {},
   "outputs": [
    {
     "data": {
      "text/plain": [
       "<AxesSubplot:xlabel='Y_test', ylabel='error'>"
      ]
     },
     "execution_count": 21,
     "metadata": {},
     "output_type": "execute_result"
    },
    {
     "data": {
      "image/png": "[encoded data removed]",
      "text/plain": [
       "<Figure size 432x288 with 1 Axes>"
      ]
     },
     "metadata": {
      "needs_background": "light"
     },
     "output_type": "display_data"
    }
   ],
   "source": [
    "#error según la valoracion\n",
    "df_er = pd.DataFrame([Y_test, lin_reg.predict(X_test)], index = None)\n",
    "df_er.index = ['Y_test', 'yhat_test']\n",
    "df_er = df_er.transpose()\n",
    "df_er['error'] = abs(df_er['Y_test'] - df_er['yhat_test'])\n",
    "df_er.plot.scatter(x = 'Y_test', y = 'error', s = 10, c = 'blue' )"
   ]
  },
  {
   "cell_type": "code",
   "execution_count": 22,
   "id": "bcc5b6a3",
   "metadata": {},
   "outputs": [
    {
     "data": {
      "text/plain": [
       "2.5666247414578702"
      ]
     },
     "execution_count": 22,
     "metadata": {},
     "output_type": "execute_result"
    }
   ],
   "source": [
    "df_er['error'].mean()"
   ]
  },
  {
   "cell_type": "code",
   "execution_count": 23,
   "id": "9ee4a123",
   "metadata": {},
   "outputs": [],
   "source": [
    "##########################################################################\n",
    "######## REGRESION LINEAL CON JUGADORES QUE JUEGAN MINUTOS ##########\n",
    "###########################################################################"
   ]
  },
  {
   "cell_type": "code",
   "execution_count": 24,
   "id": "0a98e117",
   "metadata": {},
   "outputs": [],
   "source": [
    "df['90s'].quantile([0.25,0.5,0.75])\n",
    "df2 = df[df['90s']> -0.921579] #-0.921579 es el primer cuantil"
   ]
  },
  {
   "cell_type": "code",
   "execution_count": 25,
   "id": "662805ec",
   "metadata": {},
   "outputs": [],
   "source": [
    "#Quitamos jugadores con datos NaN\n",
    "df2 = df2.dropna()\n",
    "\n",
    "X_train, X_test = train_test_split(df2, test_size=0.2, random_state=0)\n",
    "\n",
    "Y_train = X_train['VAL']\n",
    "Y_test = X_test['VAL']\n",
    "X_train = X_train.drop(['VAL'],axis = 1)\n",
    "X_test = X_test.drop(['VAL'],axis = 1)\n",
    "Y_train = Y_train.values\n",
    "Y_test = Y_test.values\n",
    "X_train = X_train.values\n",
    "X_test = X_test.values\n",
    "lin_reg.fit(X_train,Y_train) #hago la regresion\n",
    "Y_prediction = lin_reg.predict(X_test)#predigo"
   ]
  },
  {
   "cell_type": "code",
   "execution_count": 26,
   "id": "fa8f45b6",
   "metadata": {},
   "outputs": [
    {
     "data": {
      "text/plain": [
       "<AxesSubplot:xlabel='Y_test', ylabel='error'>"
      ]
     },
     "execution_count": 26,
     "metadata": {},
     "output_type": "execute_result"
    },
    {
     "data": {
      "image/png": "[encoded data removed]",
      "text/plain": [
       "<Figure size 432x288 with 1 Axes>"
      ]
     },
     "metadata": {
      "needs_background": "light"
     },
     "output_type": "display_data"
    }
   ],
   "source": [
    "#error según la valoracion\n",
    "df_er = pd.DataFrame([Y_test, lin_reg.predict(X_test)], index = None)\n",
    "df_er.index = ['Y_test', 'yhat_test']\n",
    "df_er = df_er.transpose()\n",
    "df_er['error'] = abs(df_er['Y_test'] - df_er['yhat_test'])\n",
    "df_er.plot.scatter(x = 'Y_test', y = 'error', s = 10, c = 'blue' )"
   ]
  },
  {
   "cell_type": "code",
   "execution_count": 27,
   "id": "e71c5ebe",
   "metadata": {},
   "outputs": [
    {
     "data": {
      "text/plain": [
       "2.998623288402665"
      ]
     },
     "execution_count": 27,
     "metadata": {},
     "output_type": "execute_result"
    }
   ],
   "source": [
    "df_er['error'].mean()"
   ]
  },
  {
   "cell_type": "code",
   "execution_count": 28,
   "id": "6497a088",
   "metadata": {},
   "outputs": [],
   "source": [
    "##########################################################################\n",
    "######## REGRESION LINEAL CON VAL > 69 Y 90S > 6 #########################\n",
    "##########################################################################"
   ]
  },
  {
   "cell_type": "code",
   "execution_count": 29,
   "id": "13722244",
   "metadata": {},
   "outputs": [],
   "source": [
    "#Combinacion de las anteriores\n",
    "df3 = df[df['90s']> -0.921579] #-0.921579 es el primer cuantil\n",
    "df3 = df3[df3['VAL']>69]"
   ]
  },
  {
   "cell_type": "code",
   "execution_count": 30,
   "id": "1ce09dc8",
   "metadata": {},
   "outputs": [],
   "source": [
    "#Quitamos jugadores con datos NaN\n",
    "df3 = df3.dropna()\n",
    "\n",
    "X_train, X_test = train_test_split(df3, test_size=0.2, random_state=0)\n",
    "\n",
    "Y_train = X_train['VAL']\n",
    "Y_test = X_test['VAL']\n",
    "X_train = X_train.drop(['VAL'],axis = 1)\n",
    "X_test = X_test.drop(['VAL'],axis = 1)\n",
    "Y_train = Y_train.values\n",
    "Y_test = Y_test.values\n",
    "X_train = X_train.values\n",
    "X_test = X_test.values\n",
    "lin_reg.fit(X_train,Y_train) #hago la regresion\n",
    "Y_prediction = lin_reg.predict(X_test)#predigo"
   ]
  },
  {
   "cell_type": "code",
   "execution_count": 31,
   "id": "3bb99108",
   "metadata": {},
   "outputs": [
    {
     "data": {
      "image/png": "[encoded data removed]",
      "text/plain": [
       "<Figure size 432x288 with 1 Axes>"
      ]
     },
     "metadata": {
      "needs_background": "light"
     },
     "output_type": "display_data"
    }
   ],
   "source": [
    "l = []\n",
    "l1 =list(Y_test)\n",
    "l2 = list(Y_prediction)\n",
    "l1new = []\n",
    "l2new = []\n",
    "for i in range(len(Y_test)):\n",
    "    l.append([l1[i],l2[i]])\n",
    "while len(l) != 0:\n",
    "    c = 0\n",
    "    min = l[0][0]\n",
    "    for i in range(len(l)):\n",
    "        if l[i][0] < min:\n",
    "            min = l[i][0]\n",
    "            c = i\n",
    "    l1new.append(l[c][0])\n",
    "    l2new.append(l[c][1])\n",
    "    l.pop(c)\n",
    "n = list(range(len(Y_test)))\n",
    "fig, ax = plt.subplots()\n",
    "\n",
    "ax.plot(n, l1new, label = \"Y_test\")\n",
    "#ax.plot(n, n1, label = \"n^2 - 1\")\n",
    "ax.plot(n, l2new, label = \"Y_prediction\")\n",
    "#ax.plot(n, n2, label = \"3^(n^2)\")\n",
    "ax.legend(loc = 'upper right')\n",
    "ax.set_xlabel(\"n\")\n",
    "ax.set_ylabel(\"VAL\")\n",
    "ax.set_title(\"VALORACION ESPERADA VS PREDICHA\")\n",
    "plt.savefig('VALORACION ESPERADA VS PREDICHA.png')"
   ]
  },
  {
   "cell_type": "code",
   "execution_count": 32,
   "id": "aec78647",
   "metadata": {},
   "outputs": [
    {
     "data": {
      "text/plain": [
       "<AxesSubplot:xlabel='Y_test', ylabel='error'>"
      ]
     },
     "execution_count": 32,
     "metadata": {},
     "output_type": "execute_result"
    },
    {
     "data": {
      "image/png": "[encoded data removed]",
      "text/plain": [
       "<Figure size 432x288 with 1 Axes>"
      ]
     },
     "metadata": {
      "needs_background": "light"
     },
     "output_type": "display_data"
    }
   ],
   "source": [
    "#error según la valoracion\n",
    "df_er = pd.DataFrame([Y_test, lin_reg.predict(X_test)], index = None)\n",
    "df_er.index = ['Y_test', 'yhat_test']\n",
    "df_er = df_er.transpose()\n",
    "df_er['error'] = abs(df_er['Y_test'] - df_er['yhat_test'])\n",
    "df_er.plot.scatter(x = 'Y_test', y = 'error', s = 10, c = 'blue' )"
   ]
  },
  {
   "cell_type": "code",
   "execution_count": 33,
   "id": "d4e614cd",
   "metadata": {},
   "outputs": [
    {
     "data": {
      "text/plain": [
       "2.6171475618199675"
      ]
     },
     "execution_count": 33,
     "metadata": {},
     "output_type": "execute_result"
    }
   ],
   "source": [
    "df_er['error'].mean()"
   ]
  },
  {
   "cell_type": "code",
   "execution_count": 34,
   "id": "b2d267a8",
   "metadata": {},
   "outputs": [
    {
     "data": {
      "image/png": "[encoded data removed]",
      "text/plain": [
       "<Figure size 432x288 with 1 Axes>"
      ]
     },
     "metadata": {
      "needs_background": "light"
     },
     "output_type": "display_data"
    }
   ],
   "source": [
    "import matplotlib.pyplot as plt\n",
    "t = np.arange(-10.0, 10.0, 0.05)\n",
    "fig, ax = plt.subplots()\n",
    "ax.scatter(Y_test, Y_prediction)\n",
    "\n",
    "\n",
    "ax.set(xlabel='Valoración real', ylabel='Predicción',\n",
    "       title='Resultados de regresión')\n",
    "ax.grid()\n",
    "\n",
    "fig.savefig(\"test.png\")\n",
    "plt.show()"
   ]
  },
  {
   "cell_type": "code",
   "execution_count": null,
   "id": "988e6ff8",
   "metadata": {},
   "outputs": [],
   "source": []
  }
 ],
 "metadata": {
  "kernelspec": {
   "display_name": "Python 3 (ipykernel)",
   "language": "python",
   "name": "python3"
  },
  "language_info": {
   "codemirror_mode": {
    "name": "ipython",
    "version": 3
   },
   "file_extension": ".py",
   "mimetype": "text/x-python",
   "name": "python",
   "nbconvert_exporter": "python",
   "pygments_lexer": "ipython3",
   "version": "3.9.12"
  }
 },
 "nbformat": 4,
 "nbformat_minor": 5
}
