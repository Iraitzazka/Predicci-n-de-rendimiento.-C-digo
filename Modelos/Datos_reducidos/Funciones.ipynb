{
 "cells": [
  {
   "cell_type": "code",
   "execution_count": 1,
   "id": "f0e454b4",
   "metadata": {},
   "outputs": [],
   "source": [
    "import pandas as pd\n",
    "from sklearn.linear_model import LinearRegression\n",
    "import numpy as np\n",
    "from sklearn.metrics import mean_squared_error"
   ]
  },
  {
   "cell_type": "code",
   "execution_count": 2,
   "id": "f50813fe",
   "metadata": {},
   "outputs": [],
   "source": [
    "#error CV-K\n",
    "def CV(df, size):\n",
    "    lin_reg = LinearRegression()\n",
    "    p_train = 0.80 # Porcentaje de train.\n",
    "    error_total = 0\n",
    "    for k in range(size):\n",
    "        lista = np.random.uniform(0, 1, len(df)) #creo lista para hacer grupos\n",
    "        #Hago grupos en la lista\n",
    "        for i in range(len(lista)):\n",
    "            if lista[i] < 0.2:\n",
    "                lista[i] = 1\n",
    "            elif 0.2 <= lista[i] < 0.4:\n",
    "                lista[i] = 2\n",
    "            elif 0.4 <= lista[i] < 0.6:\n",
    "                lista[i] = 3\n",
    "            elif 0.6 <= lista[i] < 0.8:\n",
    "                lista[i] = 4\n",
    "            else:\n",
    "                lista[i] = 5\n",
    "        df['is_train'] = lista #meto los grupos en los datos\n",
    "        error = 0\n",
    "        for j in [1,2,3,4,5]:\n",
    "            X_train, X_test = df[df['is_train']!=j], df[df['is_train']==j] #separo los datos por grupos\n",
    "            Y_train = X_train['VAL'] #separo X e Y y los pongo en el fromato correcto\n",
    "            Y_test = X_test['VAL']\n",
    "            X_train = X_train.drop(['VAL'],axis = 1)\n",
    "            X_test = X_test.drop(['VAL'],axis = 1)\n",
    "            Y_train = Y_train.values\n",
    "            Y_test = Y_test.values\n",
    "            X_train = X_train.values\n",
    "            X_test = X_test.values\n",
    "            lin_reg.fit(X_train,Y_train) #hago la regresion\n",
    "            Y_prediction = lin_reg.predict(X_test)#predigo\n",
    "            lin_mse = mean_squared_error(Y_test, Y_prediction)#saco el error cuadratico\n",
    "            error += np.sqrt(lin_mse)#calculo su raiz y lo sumo\n",
    "        error_total += error\n",
    "\n",
    "    CV_K = error_total/50\n",
    "    df = df.drop(['is_train'], axis = 1)\n",
    "    return(CV_K)"
   ]
  },
  {
   "cell_type": "code",
   "execution_count": 3,
   "id": "eaedacd5",
   "metadata": {},
   "outputs": [],
   "source": [
    "def suma(a,b):\n",
    "    return(a+b)"
   ]
  },
  {
   "cell_type": "code",
   "execution_count": null,
   "id": "3bab1ead",
   "metadata": {},
   "outputs": [],
   "source": []
  }
 ],
 "metadata": {
  "kernelspec": {
   "display_name": "Python 3 (ipykernel)",
   "language": "python",
   "name": "python3"
  },
  "language_info": {
   "codemirror_mode": {
    "name": "ipython",
    "version": 3
   },
   "file_extension": ".py",
   "mimetype": "text/x-python",
   "name": "python",
   "nbconvert_exporter": "python",
   "pygments_lexer": "ipython3",
   "version": "3.9.12"
  }
 },
 "nbformat": 4,
 "nbformat_minor": 5
}
