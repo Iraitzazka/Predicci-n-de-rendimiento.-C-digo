{
 "cells": [
  {
   "cell_type": "code",
   "execution_count": 2,
   "id": "0f888981",
   "metadata": {},
   "outputs": [],
   "source": [
    "import pandas as pd"
   ]
  },
  {
   "cell_type": "code",
   "execution_count": 3,
   "id": "8348e901",
   "metadata": {},
   "outputs": [],
   "source": [
    "df1 = pd.read_csv(\"2017-2018assists.csv\")\n",
    "df2 = pd.read_csv(\"2017-2018defensive.csv\")\n",
    "df3 = pd.read_csv(\"2017-2018passes.csv\")\n",
    "df4 = pd.read_csv(\"2017-2018possession.csv\")\n",
    "df5 = pd.read_csv(\"2017-2018shoots.csv\")\n",
    "df6 = pd.read_csv(\"2017-2018porteros.csv\")"
   ]
  },
  {
   "cell_type": "markdown",
   "id": "ee9fdc6a",
   "metadata": {},
   "source": [
    "### Asistencias"
   ]
  },
  {
   "cell_type": "code",
   "execution_count": 4,
   "id": "6fbe6267",
   "metadata": {},
   "outputs": [],
   "source": [
    "df1_1 = df1.drop([\"Unnamed: 6\",\"Unnamed: 24\",\"-additional\", 'SCA Types', 'SCA Types.1','SCA Types.2','SCA Types.3','SCA Types.4','SCA Types.5','GCA Types', 'GCA Types.1','GCA Types.2','GCA Types.3','GCA Types.4','GCA Types.5' ], axis = 1)\n",
    "df1_1.columns = ['ID', 'NAME', 'NATION', 'POSITION', 'TEAM', 'AGE', '90S', 'SCA','SCA90','GCA','GCA90']\n",
    "df1_2 = df1_1.drop([0], axis = 0)"
   ]
  },
  {
   "cell_type": "markdown",
   "id": "51ffbc40",
   "metadata": {},
   "source": [
    "### Defensa"
   ]
  },
  {
   "cell_type": "code",
   "execution_count": 5,
   "id": "00477883",
   "metadata": {},
   "outputs": [],
   "source": [
    "#Cambian las categorias con respecto a 2018-2019 (No hay pressure)\n",
    "df2_1 = df2.drop(['Unnamed: 6','Tackles.2', 'Tackles.3','Tackles.4','Challenges.1','Challenges.3','Blocks.1','Blocks.2','Unnamed: 21', 'Unnamed: 22', 'Unnamed: 23', 'Unnamed: 24', '-additional'], axis = 1)\n",
    "df2_1.columns = ['ID', 'NAME', 'NATION', 'POSITION', 'TEAM', 'AGE', '90S', 'TACKLES','TACKLESWIN','VSDRIBLETACKLE','%VSDRIBLETACKLE', 'BLOCKS', 'INTERCEPTIONS']\n",
    "df2_2 = df2_1.drop([0], axis = 0)"
   ]
  },
  {
   "cell_type": "markdown",
   "id": "e5d4182d",
   "metadata": {},
   "source": [
    "### Pases"
   ]
  },
  {
   "cell_type": "code",
   "execution_count": 6,
   "id": "f40e0242",
   "metadata": {},
   "outputs": [],
   "source": [
    "df3_1 = df3.drop(['Unnamed: 6','Total.1', 'Total.3','Total.4','Short','Short.1','Short.2','Medium','Medium.1','Medium.2','Long','Long.1','Long.2','Unnamed: 23','Unnamed: 24','Unnamed: 25','Unnamed: 27', 'Unnamed: 28', 'Unnamed: 29', 'Unnamed: 30', 'Unnamed: 31',  '-additional'], axis = 1)\n",
    "df3_1.columns = ['ID', 'NAME', 'NATION', 'POSITION', 'TEAM', 'AGE', '90S', 'TOTALPASSES','%TOTALPASSES','ASSIST','SHOTPASSES']\n",
    "df3_2 = df3_1.drop([0], axis = 0)"
   ]
  },
  {
   "cell_type": "markdown",
   "id": "f679b4fd",
   "metadata": {},
   "source": [
    "### Posesion"
   ]
  },
  {
   "cell_type": "code",
   "execution_count": 7,
   "id": "439ec914",
   "metadata": {},
   "outputs": [],
   "source": [
    "df4_1 = df4.drop(['Unnamed: 6','Touches.1', 'Touches.2','Touches.3','Touches.4','Touches.5','Touches.6','Take-Ons.1','Take-Ons.3','Take-Ons.4','Carries','Carries.2','Carries.3','Carries.4','Carries.5','Carries.6','Carries.7','Receiving','Receiving.1', 'Unnamed: 30', '-additional'], axis = 1)\n",
    "df4_1.columns = ['ID', 'NAME', 'NATION', 'POSITION', 'TEAM', 'AGE', '90S', 'TOTALTOUCHES','TOTALDRIBBLES','%TOTALDRIBBLES','DISTANCE']\n",
    "df4_2 = df4_1.drop([0], axis = 0)"
   ]
  },
  {
   "cell_type": "markdown",
   "id": "ba1524d6",
   "metadata": {},
   "source": [
    "### Tiros"
   ]
  },
  {
   "cell_type": "code",
   "execution_count": 8,
   "id": "e1f735c2",
   "metadata": {},
   "outputs": [],
   "source": [
    "df5_1 = df5.drop(['Unnamed: 6', 'Standard.3','Standard.4','Standard.5','Standard.6','Standard.7','Standard.8','Standard.10','Standard.11','Expected','Expected.1','Expected.2','Expected.3','Expected.4', 'Unnamed: 25', '-additional'], axis = 1)\n",
    "df5_1.columns = ['ID', 'NAME', 'NATION', 'POSITION', 'TEAM', 'AGE', '90S', 'GOALS','SHOTS','SHOTSONTARGET','FREEKICKS']\n",
    "df5_2 = df5_1.drop([0], axis = 0)"
   ]
  },
  {
   "cell_type": "markdown",
   "id": "76c951f8",
   "metadata": {},
   "source": [
    "### Portero"
   ]
  },
  {
   "cell_type": "code",
   "execution_count": 9,
   "id": "016178dd",
   "metadata": {},
   "outputs": [],
   "source": [
    "df6_1 = df6.drop(['Unnamed: 6','Playing Time', 'Playing Time.1','Playing Time.2','Performance.1','Performance.4','Performance.5','Performance.6','Performance.7', 'Performance.8', 'Performance.9', 'Penalty Kicks','Penalty Kicks.3','Penalty Kicks.4', 'Unnamed: 26', '-additional'], axis = 1)\n",
    "df6_1.columns = ['ID', 'NAME', 'NATION', 'POSITION', 'TEAM', 'AGE', '90S', 'GOALSAGAINST','SHOTSONTARGETAGAINST','SAVES', 'PENALTYALLOWED', 'PENALTYSAVED']\n",
    "df6_2 = df6_1.drop([0], axis = 0)"
   ]
  },
  {
   "cell_type": "code",
   "execution_count": 10,
   "id": "739bb716",
   "metadata": {},
   "outputs": [],
   "source": [
    "df = pd.concat([df1_2,df2_2[df2_2.columns[-6:]],df3_2[df3_2.columns[-4:]],df4_2[df4_2.columns[-4:]],df5_2[df5_2.columns[-4:]]], axis = 1)"
   ]
  },
  {
   "cell_type": "code",
   "execution_count": 14,
   "id": "863ecc64",
   "metadata": {},
   "outputs": [
    {
     "name": "stdout",
     "output_type": "stream",
     "text": [
      "<class 'pandas.core.frame.DataFrame'>\n",
      "RangeIndex: 573 entries, 1 to 573\n",
      "Data columns (total 29 columns):\n",
      " #   Column           Non-Null Count  Dtype \n",
      "---  ------           --------------  ----- \n",
      " 0   ID               573 non-null    object\n",
      " 1   NAME             573 non-null    object\n",
      " 2   NATION           573 non-null    object\n",
      " 3   POSITION         573 non-null    object\n",
      " 4   TEAM             573 non-null    object\n",
      " 5   AGE              573 non-null    object\n",
      " 6   90S              573 non-null    object\n",
      " 7   SCA              572 non-null    object\n",
      " 8   SCA90            572 non-null    object\n",
      " 9   GCA              572 non-null    object\n",
      " 10  GCA90            572 non-null    object\n",
      " 11  TACKLES          572 non-null    object\n",
      " 12  TACKLESWIN       573 non-null    object\n",
      " 13  VSDRIBLETACKLE   572 non-null    object\n",
      " 14  %VSDRIBLETACKLE  523 non-null    object\n",
      " 15  BLOCKS           572 non-null    object\n",
      " 16  INTERCEPTIONS    573 non-null    object\n",
      " 17  TOTALPASSES      572 non-null    object\n",
      " 18  %TOTALPASSES     571 non-null    object\n",
      " 19  ASSIST           573 non-null    object\n",
      " 20  SHOTPASSES       572 non-null    object\n",
      " 21  TOTALTOUCHES     572 non-null    object\n",
      " 22  TOTALDRIBBLES    572 non-null    object\n",
      " 23  %TOTALDRIBBLES   489 non-null    object\n",
      " 24  DISTANCE         572 non-null    object\n",
      " 25  GOALS            573 non-null    object\n",
      " 26  SHOTS            573 non-null    object\n",
      " 27  SHOTSONTARGET    573 non-null    object\n",
      " 28  FREEKICKS        572 non-null    object\n",
      "dtypes: object(29)\n",
      "memory usage: 129.9+ KB\n"
     ]
    }
   ],
   "source": [
    "df.info()"
   ]
  },
  {
   "cell_type": "code",
   "execution_count": 11,
   "id": "b2a1bb74",
   "metadata": {},
   "outputs": [
    {
     "data": {
      "text/html": [
       "<div>\n",
       "<style scoped>\n",
       "    .dataframe tbody tr th:only-of-type {\n",
       "        vertical-align: middle;\n",
       "    }\n",
       "\n",
       "    .dataframe tbody tr th {\n",
       "        vertical-align: top;\n",
       "    }\n",
       "\n",
       "    .dataframe thead th {\n",
       "        text-align: right;\n",
       "    }\n",
       "</style>\n",
       "<table border=\"1\" class=\"dataframe\">\n",
       "  <thead>\n",
       "    <tr style=\"text-align: right;\">\n",
       "      <th></th>\n",
       "      <th>ID</th>\n",
       "      <th>NAME</th>\n",
       "      <th>NATION</th>\n",
       "      <th>POSITION</th>\n",
       "      <th>TEAM</th>\n",
       "      <th>AGE</th>\n",
       "      <th>90S</th>\n",
       "      <th>SCA</th>\n",
       "      <th>SCA90</th>\n",
       "      <th>GCA</th>\n",
       "      <th>...</th>\n",
       "      <th>ASSIST</th>\n",
       "      <th>SHOTPASSES</th>\n",
       "      <th>TOTALTOUCHES</th>\n",
       "      <th>TOTALDRIBBLES</th>\n",
       "      <th>%TOTALDRIBBLES</th>\n",
       "      <th>DISTANCE</th>\n",
       "      <th>GOALS</th>\n",
       "      <th>SHOTS</th>\n",
       "      <th>SHOTSONTARGET</th>\n",
       "      <th>FREEKICKS</th>\n",
       "    </tr>\n",
       "  </thead>\n",
       "  <tbody>\n",
       "  </tbody>\n",
       "</table>\n",
       "<p>0 rows × 29 columns</p>\n",
       "</div>"
      ],
      "text/plain": [
       "Empty DataFrame\n",
       "Columns: [ID, NAME, NATION, POSITION, TEAM, AGE, 90S, SCA, SCA90, GCA, GCA90, TACKLES, TACKLESWIN, VSDRIBLETACKLE, %VSDRIBLETACKLE, BLOCKS, INTERCEPTIONS, TOTALPASSES, %TOTALPASSES, ASSIST, SHOTPASSES, TOTALTOUCHES, TOTALDRIBBLES, %TOTALDRIBBLES, DISTANCE, GOALS, SHOTS, SHOTSONTARGET, FREEKICKS]\n",
       "Index: []\n",
       "\n",
       "[0 rows x 29 columns]"
      ]
     },
     "execution_count": 11,
     "metadata": {},
     "output_type": "execute_result"
    }
   ],
   "source": [
    "df_names = df[['NAME']]\n",
    "df[df['NAME']==\"Ruben\"]"
   ]
  },
  {
   "cell_type": "code",
   "execution_count": 12,
   "id": "96216a41",
   "metadata": {},
   "outputs": [],
   "source": [
    "df_names.to_excel('nombres_stats_2017_2018.xlsx')"
   ]
  },
  {
   "cell_type": "code",
   "execution_count": 13,
   "id": "2c6f3104",
   "metadata": {},
   "outputs": [],
   "source": [
    "def normalize(s):\n",
    "    replacements = (\n",
    "        (\"á\", \"a\"),\n",
    "        (\"é\", \"e\"),\n",
    "        (\"í\", \"i\"),\n",
    "        (\"ó\", \"o\"),\n",
    "        (\"ú\", \"u\"),\n",
    "    )\n",
    "    for a, b in replacements:\n",
    "        s = s.replace(a, b).replace(a.upper(), b.upper())\n",
    "    return s"
   ]
  },
  {
   "cell_type": "code",
   "execution_count": 13,
   "id": "1654ad21",
   "metadata": {},
   "outputs": [],
   "source": [
    "#Le quito las tildes\n",
    "LISTA = df[\"NAME\"].to_list()\n",
    "for i in range(len(LISTA)):\n",
    "    LISTA[i] = normalize(LISTA[i])\n",
    "df[\"NAME\"] = LISTA"
   ]
  },
  {
   "cell_type": "code",
   "execution_count": 14,
   "id": "4ba64c90",
   "metadata": {},
   "outputs": [
    {
     "data": {
      "text/html": [
       "<div>\n",
       "<style scoped>\n",
       "    .dataframe tbody tr th:only-of-type {\n",
       "        vertical-align: middle;\n",
       "    }\n",
       "\n",
       "    .dataframe tbody tr th {\n",
       "        vertical-align: top;\n",
       "    }\n",
       "\n",
       "    .dataframe thead th {\n",
       "        text-align: right;\n",
       "    }\n",
       "</style>\n",
       "<table border=\"1\" class=\"dataframe\">\n",
       "  <thead>\n",
       "    <tr style=\"text-align: right;\">\n",
       "      <th></th>\n",
       "      <th>Unnamed: 0</th>\n",
       "      <th>Name</th>\n",
       "      <th>Val</th>\n",
       "    </tr>\n",
       "  </thead>\n",
       "  <tbody>\n",
       "    <tr>\n",
       "      <th>0</th>\n",
       "      <td>0</td>\n",
       "      <td>NaN</td>\n",
       "      <td>73</td>\n",
       "    </tr>\n",
       "    <tr>\n",
       "      <th>1</th>\n",
       "      <td>1</td>\n",
       "      <td>NaN</td>\n",
       "      <td>68</td>\n",
       "    </tr>\n",
       "    <tr>\n",
       "      <th>2</th>\n",
       "      <td>2</td>\n",
       "      <td>Angel Correa</td>\n",
       "      <td>80</td>\n",
       "    </tr>\n",
       "    <tr>\n",
       "      <th>3</th>\n",
       "      <td>3</td>\n",
       "      <td>NaN</td>\n",
       "      <td>62</td>\n",
       "    </tr>\n",
       "    <tr>\n",
       "      <th>4</th>\n",
       "      <td>4</td>\n",
       "      <td>Antoine Griezmann</td>\n",
       "      <td>89</td>\n",
       "    </tr>\n",
       "  </tbody>\n",
       "</table>\n",
       "</div>"
      ],
      "text/plain": [
       "   Unnamed: 0               Name  Val\n",
       "0           0                NaN   73\n",
       "1           1                NaN   68\n",
       "2           2       Angel Correa   80\n",
       "3           3                NaN   62\n",
       "4           4  Antoine Griezmann   89"
      ]
     },
     "execution_count": 14,
     "metadata": {},
     "output_type": "execute_result"
    }
   ],
   "source": [
    "valoraciones_2019 = pd.read_csv(\"Valoraciones_2019.csv\")\n",
    "valoraciones_2019.head()"
   ]
  },
  {
   "cell_type": "code",
   "execution_count": 15,
   "id": "1b073fd4",
   "metadata": {},
   "outputs": [],
   "source": [
    "valoraciones_2019 = pd.read_csv(\"Valoraciones_2019.csv\")\n",
    "valoraciones_2019 = valoraciones_2019.drop(['Unnamed: 0'],axis = 1)\n",
    "valoraciones_2019.columns = [\"NAME\", \"VAL\"] #Para que la columna de nombres se llame igual\n",
    "df = df.merge(valoraciones_2019, how = \"inner\",on = \"NAME\")\n",
    "df.to_csv(\"2017-2018_datos.csv\")"
   ]
  },
  {
   "cell_type": "code",
   "execution_count": null,
   "id": "68746644",
   "metadata": {},
   "outputs": [],
   "source": []
  }
 ],
 "metadata": {
  "kernelspec": {
   "display_name": "Python 3 (ipykernel)",
   "language": "python",
   "name": "python3"
  },
  "language_info": {
   "codemirror_mode": {
    "name": "ipython",
    "version": 3
   },
   "file_extension": ".py",
   "mimetype": "text/x-python",
   "name": "python",
   "nbconvert_exporter": "python",
   "pygments_lexer": "ipython3",
   "version": "3.9.12"
  }
 },
 "nbformat": 4,
 "nbformat_minor": 5
}
