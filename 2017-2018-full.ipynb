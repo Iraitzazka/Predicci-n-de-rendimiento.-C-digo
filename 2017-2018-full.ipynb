{
 "cells": [
  {
   "cell_type": "code",
   "execution_count": 1,
   "id": "0f888981",
   "metadata": {},
   "outputs": [],
   "source": [
    "import pandas as pd"
   ]
  },
  {
   "cell_type": "code",
   "execution_count": 2,
   "id": "8348e901",
   "metadata": {},
   "outputs": [],
   "source": [
    "df1 = pd.read_csv(\"2017-2018assists.csv\")\n",
    "df2 = pd.read_csv(\"2017-2018defensive.csv\")\n",
    "df3 = pd.read_csv(\"2017-2018passes.csv\")\n",
    "df4 = pd.read_csv(\"2017-2018possession.csv\")\n",
    "df5 = pd.read_csv(\"2017-2018shoots.csv\")\n",
    "df6 = pd.read_csv(\"2017-2018porteros.csv\")"
   ]
  },
  {
   "cell_type": "markdown",
   "id": "ee9fdc6a",
   "metadata": {},
   "source": [
    "### Asistencias"
   ]
  },
  {
   "cell_type": "code",
   "execution_count": 3,
   "id": "b12b6068",
   "metadata": {},
   "outputs": [
    {
     "data": {
      "text/html": [
       "<div>\n",
       "<style scoped>\n",
       "    .dataframe tbody tr th:only-of-type {\n",
       "        vertical-align: middle;\n",
       "    }\n",
       "\n",
       "    .dataframe tbody tr th {\n",
       "        vertical-align: top;\n",
       "    }\n",
       "\n",
       "    .dataframe thead th {\n",
       "        text-align: right;\n",
       "    }\n",
       "</style>\n",
       "<table border=\"1\" class=\"dataframe\">\n",
       "  <thead>\n",
       "    <tr style=\"text-align: right;\">\n",
       "      <th></th>\n",
       "      <th>Unnamed: 0</th>\n",
       "      <th>Unnamed: 1</th>\n",
       "      <th>Unnamed: 2</th>\n",
       "      <th>Unnamed: 3</th>\n",
       "      <th>Unnamed: 4</th>\n",
       "      <th>Unnamed: 5</th>\n",
       "      <th>Unnamed: 6</th>\n",
       "      <th>Unnamed: 7</th>\n",
       "      <th>SCA</th>\n",
       "      <th>SCA.1</th>\n",
       "      <th>...</th>\n",
       "      <th>GCA</th>\n",
       "      <th>GCA.1</th>\n",
       "      <th>GCA Types</th>\n",
       "      <th>GCA Types.1</th>\n",
       "      <th>GCA Types.2</th>\n",
       "      <th>GCA Types.3</th>\n",
       "      <th>GCA Types.4</th>\n",
       "      <th>GCA Types.5</th>\n",
       "      <th>Unnamed: 24</th>\n",
       "      <th>-additional</th>\n",
       "    </tr>\n",
       "  </thead>\n",
       "  <tbody>\n",
       "    <tr>\n",
       "      <th>0</th>\n",
       "      <td>Rk</td>\n",
       "      <td>Player</td>\n",
       "      <td>Nation</td>\n",
       "      <td>Pos</td>\n",
       "      <td>Squad</td>\n",
       "      <td>Age</td>\n",
       "      <td>Born</td>\n",
       "      <td>90s</td>\n",
       "      <td>SCA</td>\n",
       "      <td>SCA90</td>\n",
       "      <td>...</td>\n",
       "      <td>GCA</td>\n",
       "      <td>GCA90</td>\n",
       "      <td>PassLive</td>\n",
       "      <td>PassDead</td>\n",
       "      <td>TO</td>\n",
       "      <td>Sh</td>\n",
       "      <td>Fld</td>\n",
       "      <td>Def</td>\n",
       "      <td>Matches</td>\n",
       "      <td>-9999</td>\n",
       "    </tr>\n",
       "    <tr>\n",
       "      <th>1</th>\n",
       "      <td>1</td>\n",
       "      <td>Aly Abeid</td>\n",
       "      <td>mr MTN</td>\n",
       "      <td>DF</td>\n",
       "      <td>Levante</td>\n",
       "      <td>19</td>\n",
       "      <td>1997</td>\n",
       "      <td>0.9</td>\n",
       "      <td>2</td>\n",
       "      <td>2.34</td>\n",
       "      <td>...</td>\n",
       "      <td>0</td>\n",
       "      <td>0.00</td>\n",
       "      <td>0</td>\n",
       "      <td>0</td>\n",
       "      <td>0</td>\n",
       "      <td>0</td>\n",
       "      <td>0</td>\n",
       "      <td>0</td>\n",
       "      <td>Matches</td>\n",
       "      <td>bbe88396</td>\n",
       "    </tr>\n",
       "    <tr>\n",
       "      <th>2</th>\n",
       "      <td>2</td>\n",
       "      <td>Antonio Adán</td>\n",
       "      <td>es ESP</td>\n",
       "      <td>GK</td>\n",
       "      <td>Betis</td>\n",
       "      <td>30</td>\n",
       "      <td>1987</td>\n",
       "      <td>30.0</td>\n",
       "      <td>5</td>\n",
       "      <td>0.17</td>\n",
       "      <td>...</td>\n",
       "      <td>2</td>\n",
       "      <td>0.07</td>\n",
       "      <td>1</td>\n",
       "      <td>1</td>\n",
       "      <td>0</td>\n",
       "      <td>0</td>\n",
       "      <td>0</td>\n",
       "      <td>0</td>\n",
       "      <td>Matches</td>\n",
       "      <td>65d62814</td>\n",
       "    </tr>\n",
       "    <tr>\n",
       "      <th>3</th>\n",
       "      <td>3</td>\n",
       "      <td>Aday</td>\n",
       "      <td>es ESP</td>\n",
       "      <td>DF</td>\n",
       "      <td>Girona</td>\n",
       "      <td>29</td>\n",
       "      <td>1987</td>\n",
       "      <td>20.4</td>\n",
       "      <td>56</td>\n",
       "      <td>2.75</td>\n",
       "      <td>...</td>\n",
       "      <td>3</td>\n",
       "      <td>0.15</td>\n",
       "      <td>3</td>\n",
       "      <td>0</td>\n",
       "      <td>0</td>\n",
       "      <td>0</td>\n",
       "      <td>0</td>\n",
       "      <td>0</td>\n",
       "      <td>Matches</td>\n",
       "      <td>5890cef1</td>\n",
       "    </tr>\n",
       "    <tr>\n",
       "      <th>4</th>\n",
       "      <td>4</td>\n",
       "      <td>Aritz Aduriz</td>\n",
       "      <td>es ESP</td>\n",
       "      <td>FW</td>\n",
       "      <td>Athletic Club</td>\n",
       "      <td>36</td>\n",
       "      <td>1981</td>\n",
       "      <td>23.9</td>\n",
       "      <td>35</td>\n",
       "      <td>1.46</td>\n",
       "      <td>...</td>\n",
       "      <td>2</td>\n",
       "      <td>0.08</td>\n",
       "      <td>2</td>\n",
       "      <td>0</td>\n",
       "      <td>0</td>\n",
       "      <td>0</td>\n",
       "      <td>0</td>\n",
       "      <td>0</td>\n",
       "      <td>Matches</td>\n",
       "      <td>293211e1</td>\n",
       "    </tr>\n",
       "  </tbody>\n",
       "</table>\n",
       "<p>5 rows × 26 columns</p>\n",
       "</div>"
      ],
      "text/plain": [
       "  Unnamed: 0    Unnamed: 1 Unnamed: 2 Unnamed: 3     Unnamed: 4 Unnamed: 5  \\\n",
       "0         Rk        Player     Nation        Pos          Squad        Age   \n",
       "1          1     Aly Abeid     mr MTN         DF        Levante         19   \n",
       "2          2  Antonio Adán     es ESP         GK          Betis         30   \n",
       "3          3          Aday     es ESP         DF         Girona         29   \n",
       "4          4  Aritz Aduriz     es ESP         FW  Athletic Club         36   \n",
       "\n",
       "  Unnamed: 6 Unnamed: 7  SCA  SCA.1  ...  GCA  GCA.1 GCA Types GCA Types.1  \\\n",
       "0       Born        90s  SCA  SCA90  ...  GCA  GCA90  PassLive    PassDead   \n",
       "1       1997        0.9    2   2.34  ...    0   0.00         0           0   \n",
       "2       1987       30.0    5   0.17  ...    2   0.07         1           1   \n",
       "3       1987       20.4   56   2.75  ...    3   0.15         3           0   \n",
       "4       1981       23.9   35   1.46  ...    2   0.08         2           0   \n",
       "\n",
       "  GCA Types.2 GCA Types.3 GCA Types.4 GCA Types.5 Unnamed: 24 -additional  \n",
       "0          TO          Sh         Fld         Def     Matches       -9999  \n",
       "1           0           0           0           0     Matches    bbe88396  \n",
       "2           0           0           0           0     Matches    65d62814  \n",
       "3           0           0           0           0     Matches    5890cef1  \n",
       "4           0           0           0           0     Matches    293211e1  \n",
       "\n",
       "[5 rows x 26 columns]"
      ]
     },
     "execution_count": 3,
     "metadata": {},
     "output_type": "execute_result"
    }
   ],
   "source": [
    "df1.head()"
   ]
  },
  {
   "cell_type": "code",
   "execution_count": 4,
   "id": "6fbe6267",
   "metadata": {},
   "outputs": [],
   "source": [
    "df1_1 = df1.drop([\"Unnamed: 2\",\"Unnamed: 3\",\"Unnamed: 4\",\"Unnamed: 5\",\"Unnamed: 6\",\"Unnamed: 24\",\"-additional\"], axis = 1)\n",
    "df1_1.columns = list(df1_1.iloc[0])\n",
    "df1_2 = df1_1.drop([0], axis = 0)"
   ]
  },
  {
   "cell_type": "markdown",
   "id": "51ffbc40",
   "metadata": {},
   "source": [
    "### Defensa"
   ]
  },
  {
   "cell_type": "code",
   "execution_count": 5,
   "id": "00477883",
   "metadata": {},
   "outputs": [],
   "source": [
    "#Cambian las categorias con respecto a 2018-2019 (No hay pressure)\n",
    "df2_1 = df2.drop([\"Unnamed: 1\",\"Unnamed: 2\",\"Unnamed: 3\",\"Unnamed: 4\",\"Unnamed: 5\",\"Unnamed: 6\",\"Unnamed: 24\",\"-additional\"], axis = 1)\n",
    "df2_1.columns = list(df2_1.iloc[0])\n",
    "df2_2 = df2_1.drop([0], axis = 0)"
   ]
  },
  {
   "cell_type": "markdown",
   "id": "e5d4182d",
   "metadata": {},
   "source": [
    "### Pases"
   ]
  },
  {
   "cell_type": "code",
   "execution_count": 6,
   "id": "f40e0242",
   "metadata": {},
   "outputs": [],
   "source": [
    "df3_1 = df3.drop([\"Unnamed: 1\",\"Unnamed: 2\",\"Unnamed: 3\",\"Unnamed: 4\",\"Unnamed: 5\",\"Unnamed: 6\",\"Unnamed: 31\",\"-additional\"], axis = 1)\n",
    "df3_1.columns = list(df3_1.iloc[0])\n",
    "df3_2 = df3_1.drop([0], axis = 0)"
   ]
  },
  {
   "cell_type": "markdown",
   "id": "f679b4fd",
   "metadata": {},
   "source": [
    "### Posesion"
   ]
  },
  {
   "cell_type": "code",
   "execution_count": 7,
   "id": "439ec914",
   "metadata": {},
   "outputs": [],
   "source": [
    "df4_1 = df4.drop([\"Unnamed: 1\",\"Unnamed: 2\",\"Unnamed: 3\",\"Unnamed: 4\",\"Unnamed: 5\",\"Unnamed: 6\",\"Unnamed: 30\",\"-additional\"], axis = 1)\n",
    "df4_1.columns = list(df4_1.iloc[0])\n",
    "df4_2 = df4_1.drop([0], axis = 0)"
   ]
  },
  {
   "cell_type": "markdown",
   "id": "ba1524d6",
   "metadata": {},
   "source": [
    "### Tiros"
   ]
  },
  {
   "cell_type": "code",
   "execution_count": 8,
   "id": "e1f735c2",
   "metadata": {},
   "outputs": [],
   "source": [
    "df5_1 = df5.drop([\"Unnamed: 1\",\"Unnamed: 2\",\"Unnamed: 3\",\"Unnamed: 4\",\"Unnamed: 5\",\"Unnamed: 6\",\"Unnamed: 25\",\"-additional\"], axis = 1)\n",
    "df5_1.columns = list(df5_1.iloc[0])\n",
    "df5_2 = df5_1.drop([0], axis = 0)"
   ]
  },
  {
   "cell_type": "markdown",
   "id": "76c951f8",
   "metadata": {},
   "source": [
    "### Portero"
   ]
  },
  {
   "cell_type": "code",
   "execution_count": 9,
   "id": "016178dd",
   "metadata": {},
   "outputs": [],
   "source": [
    "df6_1 = df6.drop([\"Unnamed: 1\",\"Unnamed: 2\",\"Unnamed: 3\",\"Unnamed: 4\",\"Unnamed: 5\",\"Unnamed: 6\",\"Unnamed: 26\",\"-additional\"], axis = 1)\n",
    "df6_1.columns = list(df6_1.iloc[0])\n",
    "df6_2 = df6_1.drop([0], axis = 0)"
   ]
  },
  {
   "cell_type": "code",
   "execution_count": 10,
   "id": "739bb716",
   "metadata": {},
   "outputs": [],
   "source": [
    "df = pd.concat([df1_2,df2_2,df3_2,df4_2,df5_2], axis = 1)\n"
   ]
  },
  {
   "cell_type": "code",
   "execution_count": 11,
   "id": "6e841dfa",
   "metadata": {},
   "outputs": [],
   "source": [
    "#df_names = df[['NAME']]\n",
    "##df[df['NAME']==\"Vinicius Júnior\"]"
   ]
  },
  {
   "cell_type": "code",
   "execution_count": 12,
   "id": "96216a41",
   "metadata": {},
   "outputs": [],
   "source": [
    "#df_names.to_excel('nombres_stats_2017_2018.xlsx')"
   ]
  },
  {
   "cell_type": "code",
   "execution_count": 13,
   "id": "2c6f3104",
   "metadata": {},
   "outputs": [],
   "source": [
    "def normalize(s):\n",
    "    replacements = (\n",
    "        (\"á\", \"a\"),\n",
    "        (\"é\", \"e\"),\n",
    "        (\"í\", \"i\"),\n",
    "        (\"ó\", \"o\"),\n",
    "        (\"ú\", \"u\"),\n",
    "    )\n",
    "    for a, b in replacements:\n",
    "        s = s.replace(a, b).replace(a.upper(), b.upper())\n",
    "    return s"
   ]
  },
  {
   "cell_type": "code",
   "execution_count": 14,
   "id": "f78a5477",
   "metadata": {},
   "outputs": [],
   "source": [
    "## Le quito las tildes\n",
    "#LISTA = df[\"NAME\"].to_list()\n",
    "#for i in range(len(LISTA)):\n",
    "#    LISTA[i] = normalize(LISTA[i])\n",
    "#df[\"NAME\"] = LISTA"
   ]
  },
  {
   "cell_type": "code",
   "execution_count": 15,
   "id": "4ba64c90",
   "metadata": {},
   "outputs": [],
   "source": [
    "#valoraciones_2019 = pd.read_csv(\"Valoraciones_2019.csv\")\n",
    "#valoraciones_2019.head()"
   ]
  },
  {
   "cell_type": "code",
   "execution_count": 16,
   "id": "1b073fd4",
   "metadata": {},
   "outputs": [],
   "source": [
    "valoraciones_2019 = pd.read_csv(\"Valoraciones_2019.csv\")\n",
    "valoraciones_2019 = valoraciones_2019.drop(['Unnamed: 0'],axis = 1)\n",
    "valoraciones_2019.columns = [\"Player\", \"VAL\"] #Para que la columna de nombres se llame igual\n",
    "df = df.merge(valoraciones_2019, how = \"inner\",on = \"Player\")\n",
    "df.to_csv(\"2017-2018_datos_full.csv\")"
   ]
  },
  {
   "cell_type": "code",
   "execution_count": null,
   "id": "68746644",
   "metadata": {},
   "outputs": [],
   "source": []
  }
 ],
 "metadata": {
  "kernelspec": {
   "display_name": "Python 3 (ipykernel)",
   "language": "python",
   "name": "python3"
  },
  "language_info": {
   "codemirror_mode": {
    "name": "ipython",
    "version": 3
   },
   "file_extension": ".py",
   "mimetype": "text/x-python",
   "name": "python",
   "nbconvert_exporter": "python",
   "pygments_lexer": "ipython3",
   "version": "3.9.12"
  }
 },
 "nbformat": 4,
 "nbformat_minor": 5
}
