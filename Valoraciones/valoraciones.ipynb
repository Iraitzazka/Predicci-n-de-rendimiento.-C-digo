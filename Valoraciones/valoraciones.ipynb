{
 "cells": [
  {
   "cell_type": "code",
   "execution_count": 136,
   "id": "154f4cb1",
   "metadata": {},
   "outputs": [],
   "source": [
    "import pandas as pd"
   ]
  },
  {
   "cell_type": "code",
   "execution_count": 137,
   "id": "3264b568",
   "metadata": {},
   "outputs": [],
   "source": [
    "df15 = pd.read_csv(\"players_15.csv\")\n",
    "df16 = pd.read_csv(\"players_16.csv\")\n",
    "df17 = pd.read_csv(\"players_17.csv\")\n",
    "df18 = pd.read_csv(\"players_18.csv\")\n",
    "df19 = pd.read_csv(\"players_19.csv\")\n",
    "df20 = pd.read_csv(\"players_20.csv\")\n",
    "df21 = pd.read_csv(\"players_21.csv\")\n",
    "df22 = pd.read_csv(\"players_21.csv\")\n",
    "df23 = pd.read_csv(\"FIFA23_official_data.csv\")"
   ]
  },
  {
   "cell_type": "code",
   "execution_count": 138,
   "id": "93689635",
   "metadata": {},
   "outputs": [],
   "source": [
    "df23 = df23.sort_values(by =\"Name\")\n",
    "df22 = df22.sort_values(by =\"short_name\")\n",
    "df21 = df21.sort_values(by =\"short_name\")\n",
    "df20 = df20.sort_values(by =\"short_name\")\n",
    "df19 = df19.sort_values(by =\"short_name\")"
   ]
  },
  {
   "cell_type": "code",
   "execution_count": 139,
   "id": "81dcdd0a",
   "metadata": {},
   "outputs": [
    {
     "data": {
      "text/html": [
       "<div>\n",
       "<style scoped>\n",
       "    .dataframe tbody tr th:only-of-type {\n",
       "        vertical-align: middle;\n",
       "    }\n",
       "\n",
       "    .dataframe tbody tr th {\n",
       "        vertical-align: top;\n",
       "    }\n",
       "\n",
       "    .dataframe thead th {\n",
       "        text-align: right;\n",
       "    }\n",
       "</style>\n",
       "<table border=\"1\" class=\"dataframe\">\n",
       "  <thead>\n",
       "    <tr style=\"text-align: right;\">\n",
       "      <th></th>\n",
       "      <th>ID</th>\n",
       "      <th>Name</th>\n",
       "      <th>Age</th>\n",
       "      <th>Photo</th>\n",
       "      <th>Nationality</th>\n",
       "      <th>Flag</th>\n",
       "      <th>Overall</th>\n",
       "      <th>Potential</th>\n",
       "      <th>Club</th>\n",
       "      <th>Club Logo</th>\n",
       "      <th>...</th>\n",
       "      <th>Real Face</th>\n",
       "      <th>Position</th>\n",
       "      <th>Joined</th>\n",
       "      <th>Loaned From</th>\n",
       "      <th>Contract Valid Until</th>\n",
       "      <th>Height</th>\n",
       "      <th>Weight</th>\n",
       "      <th>Release Clause</th>\n",
       "      <th>Kit Number</th>\n",
       "      <th>Best Overall Rating</th>\n",
       "    </tr>\n",
       "  </thead>\n",
       "  <tbody>\n",
       "    <tr>\n",
       "      <th>4792</th>\n",
       "      <td>225161</td>\n",
       "      <td>Vallejo</td>\n",
       "      <td>25</td>\n",
       "      <td>https://cdn.sofifa.net/players/225/161/23_60.png</td>\n",
       "      <td>Spain</td>\n",
       "      <td>https://cdn.sofifa.net/flags/es.png</td>\n",
       "      <td>75</td>\n",
       "      <td>79</td>\n",
       "      <td>Real Madrid CF</td>\n",
       "      <td>https://cdn.sofifa.net/teams/243/30.png</td>\n",
       "      <td>...</td>\n",
       "      <td>Yes</td>\n",
       "      <td>&lt;span class=\"pos pos28\"&gt;SUB</td>\n",
       "      <td>Jul 31, 2015</td>\n",
       "      <td>NaN</td>\n",
       "      <td>2024</td>\n",
       "      <td>184cm</td>\n",
       "      <td>79kg</td>\n",
       "      <td>€14.9M</td>\n",
       "      <td>5.0</td>\n",
       "      <td>NaN</td>\n",
       "    </tr>\n",
       "  </tbody>\n",
       "</table>\n",
       "<p>1 rows × 29 columns</p>\n",
       "</div>"
      ],
      "text/plain": [
       "          ID     Name  Age                                             Photo  \\\n",
       "4792  225161  Vallejo   25  https://cdn.sofifa.net/players/225/161/23_60.png   \n",
       "\n",
       "     Nationality                                 Flag  Overall  Potential  \\\n",
       "4792       Spain  https://cdn.sofifa.net/flags/es.png       75         79   \n",
       "\n",
       "                Club                                Club Logo  ... Real Face  \\\n",
       "4792  Real Madrid CF  https://cdn.sofifa.net/teams/243/30.png  ...       Yes   \n",
       "\n",
       "                         Position        Joined Loaned From  \\\n",
       "4792  <span class=\"pos pos28\">SUB  Jul 31, 2015         NaN   \n",
       "\n",
       "      Contract Valid Until  Height  Weight Release Clause Kit Number  \\\n",
       "4792                  2024   184cm    79kg         €14.9M        5.0   \n",
       "\n",
       "     Best Overall Rating  \n",
       "4792                 NaN  \n",
       "\n",
       "[1 rows x 29 columns]"
      ]
     },
     "execution_count": 139,
     "metadata": {},
     "output_type": "execute_result"
    }
   ],
   "source": [
    "df23.head(20)\n",
    "df23[df23['Name'] =='Vallejo']"
   ]
  },
  {
   "cell_type": "code",
   "execution_count": 140,
   "id": "6ad4a2f2",
   "metadata": {},
   "outputs": [],
   "source": [
    "df15 = df15[['short_name','league_name','player_positions','overall']]\n",
    "df15 = df15[df15['league_name'] == 'Spain Primera Division']\n",
    "df16 = df16[['short_name','league_name','player_positions','overall']]\n",
    "df16 = df16[df16['league_name'] == 'Spain Primera Division']\n",
    "df17 = df17[['short_name','league_name','player_positions','overall']]\n",
    "df17 = df17[df17['league_name'] == 'Spain Primera Division']\n",
    "df18 = df18[['short_name','league_name','player_positions','overall']]\n",
    "df18 = df18[df18['league_name'] == 'Spain Primera Division']\n",
    "df19 = df19[['short_name','league_name','player_positions','overall']]\n",
    "df19 = df19[df19['league_name'] == 'Spain Primera Division']\n",
    "df20 = df20[['short_name','league_name','player_positions','overall']]\n",
    "df20 = df20[df20['league_name'] == 'Spain Primera Division']\n",
    "df21 = df21[['short_name','league_name','player_positions','overall']]\n",
    "df21 = df21[df21['league_name'] == 'Spain Primera Division']\n",
    "df22 = df22[['short_name','league_name','player_positions','overall']]\n",
    "df22 = df22[df22['league_name'] == 'Spain Primera Division']\n",
    "df23 = pd.DataFrame(df23)\n",
    "df23 = df23[['Name','Club','Overall']]\n",
    "df23 = df23[df23.Club.isin(['Elche CF','Getafe CF','Cádiz CF','Valencia CF','RCD Espanyol de Barcelona','Unión Deportiva Almería','Girona FC','Girona FC','RCD Mallorca','CA Osasuna','Sevilla FC','Real Madrid CF','Real Sociedad','Real Valladolid CF','Atlético de Madrid','FC Barcelona','Real Betis Balompié','Rayo Vallecano','Villarreal CF','Athletic Club de Bilbao'])]\n",
    "#df23 = df23[df23['Club'] in ['Elche CF','Getafe CF','Cádiz CF','Valencia CF','RCD Espanyol de Barcelona','Unión Deportiva Almería','Girona FC','Girona FC','RCD Mallorca','CA Osasuna','Sevilla FC','Real Madrid CF','Real Sociedad','Real Valladolid CF','Atlético de Madrid','FC Barcelona','Real Betis Balompié','Rayo Vallecano','Villarreal CF','Athletic Club de Bilbao']]"
   ]
  },
  {
   "cell_type": "code",
   "execution_count": 144,
   "id": "de7d8d17",
   "metadata": {},
   "outputs": [],
   "source": [
    "#EN LAS SIGUIENTES LINEAS limpio de asteriscos los nombres buenos\n"
   ]
  },
  {
   "cell_type": "code",
   "execution_count": 143,
   "id": "d94ba07c",
   "metadata": {},
   "outputs": [],
   "source": [
    "nombres_23 = pd.read_excel(\"nombres_a_reemplazar_2021_2022_2023.xlsx\")\n",
    "nombres_23_lista = nombres_23[\"NOMBRES FIFA\"].to_list()\n",
    "val_23_lista = df23[\"Overall\"].to_list()\n",
    "for i in range(len(nombres_23_lista)):\n",
    "        if type(nombres_23_lista[i]) == str :\n",
    "            if len(nombres_23_lista[i]) > 1: # Si es un nombre, le quito \" *\"\n",
    "                nombres_23_lista[i] = nombres_23_lista[i][:-2]\n",
    "            else : # Si es un \"-\"\n",
    "                nombres_23_lista[i] = \"\"\n",
    "        else: # Si es un 1\n",
    "            nombres_23_lista[i] = \"\"\n",
    "\n",
    "zipped = list(zip(nombres_23_lista, val_23_lista))\n",
    "data23 = pd.DataFrame(zipped, columns=['Name', 'Val'])\n",
    "data23.to_csv(\"Valoraciones_2023.csv\")"
   ]
  },
  {
   "cell_type": "code",
   "execution_count": 94,
   "id": "d078f851",
   "metadata": {},
   "outputs": [],
   "source": [
    "nombres_22 = pd.read_excel(\"nombres_a_reemplazar_2020_2021_2022.xlsx\")\n",
    "nombres_22_lista = nombres_22[\"NOMBRES FIFA\"].to_list()\n",
    "val_22_lista = df22[\"overall\"].to_list()\n",
    "for i in range(len(nombres_22_lista)):\n",
    "        if type(nombres_22_lista[i]) == str :\n",
    "            if len(nombres_22_lista[i]) > 1: # Si es un nombre, le quito \" *\"\n",
    "                nombres_22_lista[i] = nombres_22_lista[i][:-2]\n",
    "            else : # Si es un \"-\"\n",
    "                nombres_22_lista[i] = \"\"\n",
    "        else: # Si es un 1\n",
    "            nombres_22_lista[i] = \"\"\n",
    "\n",
    "zipped = list(zip(nombres_22_lista, val_22_lista))\n",
    "data22 = pd.DataFrame(zipped, columns=['Name', 'Val'])\n",
    "data22.to_csv(\"Valoraciones_2022.csv\")"
   ]
  },
  {
   "cell_type": "code",
   "execution_count": 55,
   "id": "d5dd952d",
   "metadata": {},
   "outputs": [],
   "source": [
    "nombres_21 = pd.read_excel(\"nombres_a_reemplazar_2019_2020_2021.xlsx\")\n",
    "nombres_21_lista = nombres_21[\"NOMBRES FIFA\"].to_list()\n",
    "val_21_lista = df21[\"overall\"].to_list()\n",
    "for i in range(len(nombres_21_lista)):\n",
    "        if type(nombres_21_lista[i]) == str :\n",
    "            if len(nombres_21_lista[i]) > 1: # Si es un nombre, le quito \" *\"\n",
    "                nombres_21_lista[i] = nombres_21_lista[i][:-2]\n",
    "            else : # Si es un \"-\"\n",
    "                nombres_21_lista[i] = \"\"\n",
    "        else: # Si es un 1\n",
    "            nombres_21_lista[i] = \"\"\n",
    "\n",
    "zipped = list(zip(nombres_21_lista, val_21_lista))\n",
    "data21 = pd.DataFrame(zipped, columns=['Name', 'Val'])\n",
    "data21.to_csv(\"Valoraciones_2021.csv\")"
   ]
  },
  {
   "cell_type": "code",
   "execution_count": 56,
   "id": "9a91968a",
   "metadata": {},
   "outputs": [],
   "source": [
    "nombres_20 = pd.read_excel(\"nombres_a_reemplazar_2018_2019_2020.xlsx\")\n",
    "nombres_20_lista = nombres_20[\"NOMBRES FIFA\"].to_list()\n",
    "val_20_lista = df20[\"overall\"].to_list()\n",
    "for i in range(len(nombres_20_lista)):\n",
    "        if type(nombres_20_lista[i]) == str :\n",
    "            if len(nombres_20_lista[i]) > 1: # Si es un nombre, le quito \" *\"\n",
    "                nombres_20_lista[i] = nombres_20_lista[i][:-2]\n",
    "            else : # Si es un \"-\"\n",
    "                nombres_20_lista[i] = \"\"\n",
    "        else: # Si es un 1\n",
    "            nombres_20_lista[i] = \"\"\n",
    "\n",
    "zipped = list(zip(nombres_20_lista, val_20_lista))\n",
    "data20 = pd.DataFrame(zipped, columns=['Name', 'Val'])\n",
    "data20.to_csv(\"Valoraciones_2020.csv\")"
   ]
  },
  {
   "cell_type": "code",
   "execution_count": 57,
   "id": "4cbee4e6",
   "metadata": {},
   "outputs": [],
   "source": [
    "nombres_19 = pd.read_excel(\"nombres_a_reemplazar_2017_2018_2019.xlsx\")\n",
    "nombres_19_lista = nombres_19[\"NOMBRES FIFA\"].to_list()\n",
    "val_19_lista = df19[\"overall\"].to_list()\n",
    "for i in range(len(nombres_19_lista)):\n",
    "        if type(nombres_19_lista[i]) == str :\n",
    "            if len(nombres_19_lista[i]) > 1: # Si es un nombre, le quito \" *\"\n",
    "                nombres_19_lista[i] = nombres_19_lista[i][:-2]\n",
    "            else : # Si es un \"-\"\n",
    "                nombres_19_lista[i] = \"\"\n",
    "        else: # Si es un 1\n",
    "            nombres_19_lista[i] = \"\"\n",
    "\n",
    "zipped = list(zip(nombres_19_lista, val_19_lista))\n",
    "data19 = pd.DataFrame(zipped, columns=['Name', 'Val'])\n",
    "data19.to_csv(\"Valoraciones_2019.csv\")"
   ]
  },
  {
   "cell_type": "code",
   "execution_count": 101,
   "id": "ac765eec",
   "metadata": {},
   "outputs": [],
   "source": [
    "df23.to_csv('valoraciones2023.csv')\n",
    "df23 = df23[['Name']]\n",
    "df23.to_excel('nombres_val_2023.xlsx')"
   ]
  },
  {
   "cell_type": "code",
   "execution_count": 58,
   "id": "4b4e5f13",
   "metadata": {},
   "outputs": [],
   "source": [
    "df22.to_csv('valoraciones2022.csv')\n",
    "df22 = df22[['short_name']]\n",
    "df22.to_excel('nombres_val_2022.xlsx')"
   ]
  },
  {
   "cell_type": "code",
   "execution_count": 59,
   "id": "2ac9758d",
   "metadata": {},
   "outputs": [],
   "source": [
    "df21.to_csv('valoraciones2021.csv')\n",
    "df21 = df21[['short_name']]\n",
    "df21.to_excel('nombres_val_2021.xlsx')"
   ]
  },
  {
   "cell_type": "code",
   "execution_count": 60,
   "id": "92486db1",
   "metadata": {},
   "outputs": [],
   "source": [
    "df20.to_csv('valoraciones2020.csv')\n",
    "df20 = df20[['short_name']]\n",
    "df20.to_excel('nombres_val_2020.xlsx')"
   ]
  },
  {
   "cell_type": "code",
   "execution_count": 61,
   "id": "fedfed4d",
   "metadata": {},
   "outputs": [],
   "source": [
    "df19.to_csv('valoraciones2019.csv')\n",
    "df19 = df19[['short_name']]\n",
    "df19.to_excel('nombres_val_2019.xlsx')"
   ]
  }
 ],
 "metadata": {
  "kernelspec": {
   "display_name": "Python 3 (ipykernel)",
   "language": "python",
   "name": "python3"
  },
  "language_info": {
   "codemirror_mode": {
    "name": "ipython",
    "version": 3
   },
   "file_extension": ".py",
   "mimetype": "text/x-python",
   "name": "python",
   "nbconvert_exporter": "python",
   "pygments_lexer": "ipython3",
   "version": "3.9.12"
  }
 },
 "nbformat": 4,
 "nbformat_minor": 5
}
